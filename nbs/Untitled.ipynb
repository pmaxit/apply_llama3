{
 "cells": [
  {
   "cell_type": "code",
   "execution_count": 1,
   "id": "b645188b-ba5a-4c96-944e-2f3f0d1f7848",
   "metadata": {},
   "outputs": [
    {
     "name": "stdout",
     "output_type": "stream",
     "text": [
      "Collecting together\n",
      "  Downloading together-1.2.0-py3-none-any.whl.metadata (11 kB)\n",
      "Requirement already satisfied: aiohttp<4.0.0,>=3.9.3 in /system/conda/miniconda3/envs/cloudspace/lib/python3.10/site-packages (from together) (3.9.5)\n",
      "Requirement already satisfied: click<9.0.0,>=8.1.7 in /system/conda/miniconda3/envs/cloudspace/lib/python3.10/site-packages (from together) (8.1.7)\n",
      "Collecting eval-type-backport<0.3.0,>=0.1.3 (from together)\n",
      "  Downloading eval_type_backport-0.2.0-py3-none-any.whl.metadata (2.2 kB)\n",
      "Requirement already satisfied: filelock<4.0.0,>=3.13.1 in /system/conda/miniconda3/envs/cloudspace/lib/python3.10/site-packages (from together) (3.14.0)\n",
      "Requirement already satisfied: numpy>=1.23.5 in /system/conda/miniconda3/envs/cloudspace/lib/python3.10/site-packages (from together) (1.26.2)\n",
      "Requirement already satisfied: pillow<11.0.0,>=10.3.0 in /system/conda/miniconda3/envs/cloudspace/lib/python3.10/site-packages (from together) (10.3.0)\n",
      "Requirement already satisfied: pyarrow>=10.0.1 in /system/conda/miniconda3/envs/cloudspace/lib/python3.10/site-packages (from together) (16.1.0)\n",
      "Requirement already satisfied: pydantic<3.0.0,>=2.6.3 in /system/conda/miniconda3/envs/cloudspace/lib/python3.10/site-packages (from together) (2.7.2)\n",
      "Requirement already satisfied: requests<3.0.0,>=2.31.0 in /system/conda/miniconda3/envs/cloudspace/lib/python3.10/site-packages (from together) (2.32.3)\n",
      "Requirement already satisfied: tabulate<0.10.0,>=0.9.0 in /system/conda/miniconda3/envs/cloudspace/lib/python3.10/site-packages (from together) (0.9.0)\n",
      "Requirement already satisfied: tqdm<5.0.0,>=4.66.2 in /system/conda/miniconda3/envs/cloudspace/lib/python3.10/site-packages (from together) (4.66.4)\n",
      "Requirement already satisfied: typer<0.13,>=0.9 in /system/conda/miniconda3/envs/cloudspace/lib/python3.10/site-packages (from together) (0.12.3)\n",
      "Requirement already satisfied: aiosignal>=1.1.2 in /system/conda/miniconda3/envs/cloudspace/lib/python3.10/site-packages (from aiohttp<4.0.0,>=3.9.3->together) (1.3.1)\n",
      "Requirement already satisfied: attrs>=17.3.0 in /system/conda/miniconda3/envs/cloudspace/lib/python3.10/site-packages (from aiohttp<4.0.0,>=3.9.3->together) (23.2.0)\n",
      "Requirement already satisfied: frozenlist>=1.1.1 in /system/conda/miniconda3/envs/cloudspace/lib/python3.10/site-packages (from aiohttp<4.0.0,>=3.9.3->together) (1.4.1)\n",
      "Requirement already satisfied: multidict<7.0,>=4.5 in /system/conda/miniconda3/envs/cloudspace/lib/python3.10/site-packages (from aiohttp<4.0.0,>=3.9.3->together) (6.0.5)\n",
      "Requirement already satisfied: yarl<2.0,>=1.0 in /system/conda/miniconda3/envs/cloudspace/lib/python3.10/site-packages (from aiohttp<4.0.0,>=3.9.3->together) (1.9.4)\n",
      "Requirement already satisfied: async-timeout<5.0,>=4.0 in /system/conda/miniconda3/envs/cloudspace/lib/python3.10/site-packages (from aiohttp<4.0.0,>=3.9.3->together) (4.0.3)\n",
      "Requirement already satisfied: annotated-types>=0.4.0 in /system/conda/miniconda3/envs/cloudspace/lib/python3.10/site-packages (from pydantic<3.0.0,>=2.6.3->together) (0.7.0)\n",
      "Requirement already satisfied: pydantic-core==2.18.3 in /system/conda/miniconda3/envs/cloudspace/lib/python3.10/site-packages (from pydantic<3.0.0,>=2.6.3->together) (2.18.3)\n",
      "Requirement already satisfied: typing-extensions>=4.6.1 in /system/conda/miniconda3/envs/cloudspace/lib/python3.10/site-packages (from pydantic<3.0.0,>=2.6.3->together) (4.12.1)\n",
      "Requirement already satisfied: charset-normalizer<4,>=2 in /system/conda/miniconda3/envs/cloudspace/lib/python3.10/site-packages (from requests<3.0.0,>=2.31.0->together) (3.3.2)\n",
      "Requirement already satisfied: idna<4,>=2.5 in /system/conda/miniconda3/envs/cloudspace/lib/python3.10/site-packages (from requests<3.0.0,>=2.31.0->together) (3.7)\n",
      "Requirement already satisfied: urllib3<3,>=1.21.1 in /system/conda/miniconda3/envs/cloudspace/lib/python3.10/site-packages (from requests<3.0.0,>=2.31.0->together) (2.2.1)\n",
      "Requirement already satisfied: certifi>=2017.4.17 in /system/conda/miniconda3/envs/cloudspace/lib/python3.10/site-packages (from requests<3.0.0,>=2.31.0->together) (2024.6.2)\n",
      "Requirement already satisfied: shellingham>=1.3.0 in /system/conda/miniconda3/envs/cloudspace/lib/python3.10/site-packages (from typer<0.13,>=0.9->together) (1.5.4)\n",
      "Requirement already satisfied: rich>=10.11.0 in /system/conda/miniconda3/envs/cloudspace/lib/python3.10/site-packages (from typer<0.13,>=0.9->together) (13.7.1)\n",
      "Requirement already satisfied: markdown-it-py>=2.2.0 in /system/conda/miniconda3/envs/cloudspace/lib/python3.10/site-packages (from rich>=10.11.0->typer<0.13,>=0.9->together) (3.0.0)\n",
      "Requirement already satisfied: pygments<3.0.0,>=2.13.0 in /system/conda/miniconda3/envs/cloudspace/lib/python3.10/site-packages (from rich>=10.11.0->typer<0.13,>=0.9->together) (2.18.0)\n",
      "Requirement already satisfied: mdurl~=0.1 in /system/conda/miniconda3/envs/cloudspace/lib/python3.10/site-packages (from markdown-it-py>=2.2.0->rich>=10.11.0->typer<0.13,>=0.9->together) (0.1.2)\n",
      "Downloading together-1.2.0-py3-none-any.whl (61 kB)\n",
      "\u001b[2K   \u001b[90m━━━━━━━━━━━━━━━━━━━━━━━━━━━━━━━━━━━━━━━━\u001b[0m \u001b[32m61.4/61.4 kB\u001b[0m \u001b[31m7.1 MB/s\u001b[0m eta \u001b[36m0:00:00\u001b[0m\n",
      "\u001b[?25hDownloading eval_type_backport-0.2.0-py3-none-any.whl (5.9 kB)\n",
      "Installing collected packages: eval-type-backport, together\n",
      "Successfully installed eval-type-backport-0.2.0 together-1.2.0\n"
     ]
    }
   ],
   "source": [
    "!pip install together"
   ]
  },
  {
   "cell_type": "code",
   "execution_count": 2,
   "id": "ecebd562-9d90-4947-b125-78ded8c74dcb",
   "metadata": {},
   "outputs": [
    {
     "data": {
      "text/plain": [
       "True"
      ]
     },
     "execution_count": 2,
     "metadata": {},
     "output_type": "execute_result"
    }
   ],
   "source": [
    "import dotenv, os\n",
    "dotenv.load_dotenv()"
   ]
  },
  {
   "cell_type": "code",
   "execution_count": 4,
   "id": "1d5ecaf0-1432-4911-8c3f-fcfa9b178a6e",
   "metadata": {},
   "outputs": [
    {
     "name": "stdout",
     "output_type": "stream",
     "text": [
      "The city that never sleeps! New York is a global hub of culture, finance, media, art, fashion, research, and entertainment. Here's a brief overview:\n",
      "\n",
      "**Location**: New York is located in the northeastern United States, in the state of New York. It's situated on the Atlantic Coast, bordered by New Jersey and Connecticut to the west, and Long Island Sound to the south.\n",
      "\n",
      "**Population**: As of 2020, the city has a population of over 8.4 million people, making it the most populous city in the United States. The New York metropolitan area, which includes the surrounding counties and cities, has a population of over 20 million people, making it the largest metropolitan area in the United States.\n",
      "\n",
      "**Neighborhoods**: New York City is divided into five boroughs: Manhattan, Brooklyn, Queens, the Bronx, and Staten Island. Each borough has its own unique character, with Manhattan being the most famous and densely populated. Some popular neighborhoods include:\n",
      "\n",
      "* SoHo (South of Houston): Known for its trendy boutiques, art galleries, and cast-iron buildings.\n",
      "* Greenwich Village: A historic neighborhood with a bohemian vibe, known for its jazz clubs, restaurants, and LGBTQ+ community.\n",
      "* Chinatown and Little Italy: Two adjacent neighborhoods with a rich cultural heritage, known for their street food, markets, and festivals.\n",
      "* Williamsburg: A hip neighborhood in Brooklyn with a thriving arts and music scene.\n",
      "* Harlem: A historic neighborhood with a rich African American culture, known for its jazz clubs, restaurants, and cultural institutions.\n",
      "\n",
      "**Landmarks**: New York City is home to many iconic landmarks, including:\n",
      "\n",
      "* The Statue of Liberty and Ellis Island: A symbol of freedom and democracy, located in Liberty Island.\n",
      "* Central Park: An 843-acre green oasis in the middle of Manhattan, with walking paths, lakes, and famous landmarks like the Bethesda Fountain.\n",
      "* Times Square: A bustling area known for its bright lights, giant billboards, and lively atmosphere.\n",
      "* The Empire State Building: A 102-story skyscraper with an observation deck offering stunning views of the city.\n",
      "* The Metropolitan Museum of Art: One of the world's largest and most famous museums, with a collection of over 2 million works of art.\n",
      "\n",
      "**Cuisine**: New York City is a melting pot of cuisines, with a diverse range of options to suit every taste and budget. Some popular dishes and restaurants include:\n",
      "\n",
      "* New York-style pizza: Thin crust, foldable, and often topped with mozzarella, pepperoni, and other ingredients.\n",
      "* Bagels: A classic Jewish staple, often topped with cream cheese, lox, or other spreads.\n",
      "* Deli sandwiches: Thick-cut meats, cheeses, and condiments piled high on rye bread.\n",
      "* Chinese food: A staple in many New York neighborhoods, with options ranging from dim sum to Szechuan hot pots.\n",
      "* Jewish delis: Classic eateries like Katz's Delicatessen and Carnegie Deli, serving up pastrami sandwiches, knishes, and matzo ball soup.\n",
      "\n",
      "**Culture**: New York City is a hub of artistic and cultural expression, with numerous museums, galleries, and performance venues. Some popular attractions include:\n",
      "\n",
      "* Broadway shows: World-class musicals and plays, with many iconic theaters like the Gershwin and the Al Hirschfeld.\n",
      "* The Metropolitan Opera: One of the world's most famous opera companies, with performances at the Metropolitan Opera House.\n",
      "* The New York Philharmonic: A world-renowned orchestra, with performances at David Geffen Hall.\n",
      "* The Museum of Modern Art (MoMA): A world-class museum with a collection of modern and contemporary art.\n",
      "\n",
      "**Transportation**: New York City has a comprehensive public transportation system, including:\n",
      "\n",
      "* The subway: A 24/7 network of underground trains, with 472 stations and over 850 miles of track.\n",
      "* Buses: An extensive network of buses, including express buses and local buses.\n",
      "* Yellow cabs: Iconic taxis that can be hailed on the street or booked in advance.\n",
      "* Ride-hailing services: Uber, Lyft, and other services that can be booked through mobile apps.\n",
      "\n",
      "**Weather**: New York City has a humid subtropical climate, with cold winters and hot, humid summers. The average temperature in January, the coldest month, is around 25°F (-4°C), while the average temperature in July, the warmest month, is around 84°F (29°C).\n",
      "\n",
      "**Cost of living**: New York City is one of the most expensive cities in the United States, with high costs for housing, food, transportation, and entertainment. However, there are many affordable options available, especially outside of Manhattan.\n",
      "\n",
      "**Safety**: New York City is generally a safe city, with low crime rates compared to other major cities. However, as with any city, it's always a good idea to take precautions to ensure your personal safety, such as being aware of your surroundings and avoiding walking alone in isolated areas at night.\n",
      "\n",
      "This is just a small taste of what New York City has to offer. Whether you're interested in art, culture, food, or entertainment, there's something for everyone in the city that never sleeps!"
     ]
    }
   ],
   "source": [
    "import os\n",
    "from together import Together\n",
    "\n",
    "client = Together(api_key=os.environ.get(\"TOGETHER_API_KEY\"))\n",
    "stream = client.chat.completions.create(\n",
    "    model=\"meta-llama/Llama-3-8b-chat-hf\",\n",
    "    messages=[{\"role\": \"user\", \"content\": \"tell me about new york\"}],\n",
    "    stream=True,\n",
    ")\n",
    "\n",
    "for chunk in stream:\n",
    "    print(chunk.choices[0].delta.content or \"\", end=\"\", flush=True)\n"
   ]
  },
  {
   "cell_type": "code",
   "execution_count": 6,
   "id": "9d560b12-f406-4847-a1e3-156eedd6ea8c",
   "metadata": {},
   "outputs": [],
   "source": [
    "llm = ChatTogether(\n",
    "    model=\"mistralai/Mistral-7B-Instruct-v0.3\",\n",
    ")"
   ]
  },
  {
   "cell_type": "code",
   "execution_count": 7,
   "id": "9004acbc-553d-4892-92e4-5ef4ce3ca914",
   "metadata": {},
   "outputs": [
    {
     "name": "stdout",
     "output_type": "stream",
     "text": [
      " New York City, also known as the \"City that Never Sleeps,\" is a vibrant and exciting destination with a plethora of activities for everyone. Here are some fun things you might consider:\n",
      "\n",
      "1. **Statue of Liberty and Ellis Island Tour**: A must-visit for any first-time visitor. Take a ferry to these iconic landmarks and learn about the history of immigration in the United States.\n",
      "\n",
      "2. **Central Park**: Enjoy a leisurely stroll, rent a bike, visit the Central Park Zoo, or have a picnic. The park is full of beautiful landscapes, lakes, and various attractions.\n",
      "\n",
      "3. **Broadway Shows**: Catch a performance of a famous Broadway show. Some popular ones include Hamilton, The Lion King, and Wicked.\n",
      "\n",
      "4. **The Metropolitan Museum of Art**: Explore one of the world's largest and finest art museums, housing over two million works of art.\n",
      "\n",
      "5. **Empire State Building**: Visit the observatory for stunning views of the city. Try to time your visit for sunset.\n",
      "\n",
      "6. **Times Square**: Experience the energy and excitement of the \"Crossroads of the World.\" Don't forget to take a picture with the famous New Year's Eve ball.\n",
      "\n",
      "7. **High Line**: Walk along this elevated park built on a former rail line, offering stunning views of the city and the Hudson River.\n",
      "\n",
      "8. **Brooklyn Bridge**: Stroll across this iconic suspension bridge and enjoy the panoramic views of Manhattan and Brooklyn.\n",
      "\n",
      "9. **9/11 Memorial and Museum**: Pay respects to the victims of the September 11 attacks and learn about the events that unfolded that day.\n",
      "\n",
      "10. **Food Tours**: Indulge in the city's diverse food scene by taking a food tour in areas like Chinatown, Little Italy, or the Lower East Side."
     ]
    }
   ],
   "source": [
    "# stream the response back from the model\n",
    "for m in llm.stream(\"Tell me fun things to do in NYC\"):\n",
    "    print(m.content, end=\"\", flush=True)"
   ]
  },
  {
   "cell_type": "code",
   "execution_count": null,
   "id": "38819e1d-b693-4576-ac86-53dd2b3b3a53",
   "metadata": {},
   "outputs": [],
   "source": []
  }
 ],
 "metadata": {
  "kernelspec": {
   "display_name": "Python 3",
   "language": "python",
   "name": "python3"
  },
  "language_info": {
   "codemirror_mode": {
    "name": "ipython",
    "version": 3
   },
   "file_extension": ".py",
   "mimetype": "text/x-python",
   "name": "python",
   "nbconvert_exporter": "python",
   "pygments_lexer": "ipython3",
   "version": "3.10.10"
  }
 },
 "nbformat": 4,
 "nbformat_minor": 5
}
