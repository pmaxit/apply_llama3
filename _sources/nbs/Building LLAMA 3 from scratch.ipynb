{
 "cells": [
  {
   "cell_type": "markdown",
   "id": "0193a7e2-d10a-4560-b326-cc1f78311088",
   "metadata": {},
   "source": [
    "# Building LLAMA 3 from scratch"
   ]
  },
  {
   "cell_type": "code",
   "execution_count": 28,
   "id": "73ec0b42-1701-4d06-a59e-1e543835d29d",
   "metadata": {
    "editable": true,
    "slideshow": {
     "slide_type": ""
    },
    "tags": [
     "remove-cell"
    ]
   },
   "outputs": [],
   "source": [
    "from torch import nn\n",
    "\n",
    "import torch\n",
    "from torch.utils.data import Dataset, DataLoader\n",
    "from transformers import Trainer, TrainingArguments\n",
    "from datasets import load_dataset\n",
    "from collections import Counter\n",
    "\n",
    "from tokenizers import Tokenizer, normalizers, pre_tokenizers\n",
    "from tokenizers.models import WordLevel\n",
    "from tokenizers.normalizers import NFD, Lowercase, StripAccents\n",
    "from tokenizers.pre_tokenizers import Digits, Whitespace\n",
    "from tokenizers.processors import TemplateProcessing\n",
    "from tokenizers.trainers import WordLevelTrainer\n",
    "from gensim.parsing.preprocessing import preprocess_string\n",
    "import datasets\n",
    "\n",
    "import torch\n",
    "import torch.nn as nn\n",
    "import torch.nn.functional as F\n",
    "import math\n",
    "from transformers import PreTrainedModel, PretrainedConfig\n",
    "from transformers import Trainer, TrainingArguments\n",
    "from datasets import load_dataset\n",
    "from transformers import DataCollatorForLanguageModeling, DataCollatorWithPadding\n",
    "from transformers import AutoTokenizer\n",
    "from transformers.modeling_outputs import CausalLMOutputWithPast, CausalLMOutputWithCrossAttentions\n",
    "\n",
    "from transformers import GPT2LMHeadModel, GPT2Tokenizer, GPT2Config, Trainer, TrainingArguments, AutoModelForCausalLM, AutoConfig\n",
    "from transformers import AutoModelForSeq2SeqLM, AutoTokenizer, GenerationConfig"
   ]
  },
  {
   "cell_type": "markdown",
   "id": "86cc06f6-f83c-4df4-b86b-49d2129b1dd8",
   "metadata": {
    "editable": true,
    "slideshow": {
     "slide_type": ""
    },
    "tags": []
   },
   "source": [
    "This chapter guides you through the process of building a LLAMA 3 model from scratch using PyTorch and Hugging Face Transformers. While we won't replicate the full scale of LLAMA 3 due to computational constraints, you'll gain a solid understanding of the core concepts and implementation steps."
   ]
  },
  {
   "cell_type": "markdown",
   "id": "4359314f-8637-4922-aa52-8219c3183142",
   "metadata": {
    "editable": true,
    "slideshow": {
     "slide_type": ""
    },
    "tags": []
   },
   "source": [
    "## Chapter Outline"
   ]
  },
  {
   "cell_type": "markdown",
   "id": "4a519b77-b590-4cd4-80c4-897b8d226561",
   "metadata": {
    "editable": true,
    "slideshow": {
     "slide_type": ""
    },
    "tags": []
   },
   "source": [
    "1. Building block for a language model\n",
    "2. N-gram language model\n",
    "3. RNN neural network using attention\n",
    "4. Transformer Architecture: The Foundation\n",
    "6. The Decoder-Only GPT-2 Model\n",
    "7. Training with Huggingface API\n",
    "8. (Optional) converting it into a Chat like format"
   ]
  },
  {
   "cell_type": "markdown",
   "id": "73079c5e-3088-478b-848f-eacc9c6fa15b",
   "metadata": {
    "editable": true,
    "slideshow": {
     "slide_type": ""
    },
    "tags": []
   },
   "source": [
    "Imagine a young apprentice learning at the feet of Shakespeare, soaking in his vast knowledge word by word. Over time, the apprentice learns to anticipate the next word, the next phrase, the next line of verse. This is the essence of a language model - a system that predicts the next word, given the ones that come before.\n",
    "\n",
    "In today's digital world, language models are powered by algorithms and trained on massive datasets of text, much like that apprentice studying Shakespeare's plays. They've become essential tools for a variety of tasks:\n",
    "\n",
    "- Writing Assistance: They help us write emails, craft essays, and even generate creative content.\n",
    "- Translation: They bridge language barriers by translating text from one language to another.\n",
    "- Conversation: They power chatbots and voice assistants, engaging in conversations with us."
   ]
  },
  {
   "cell_type": "markdown",
   "id": "7c0546d2-d34c-4374-b7ed-bb8cf57bd711",
   "metadata": {
    "editable": true,
    "slideshow": {
     "slide_type": ""
    },
    "tags": []
   },
   "source": [
    "## Building block\n",
    "\n",
    "At its core, a langauge model is a statistical model. It analyzes the patterns and probabilities of words occuring together in a vast corpus of text. The more data it's exposed to, the better it becomes at predicting the next word in a sequence.\n",
    "\n",
    "Think of it like this:\n",
    "\n",
    "- **Tokenization**: The model breaks down text into smaller units called tokens (words, punctuation, etc.).\n",
    "- **Pattern Recognition**: It learns the relationships between these tokens, understanding which words are likely to follow others.\n",
    "- **Prediction**: Given a sequence of words, it calculates the probability of different words coming next and chooses the most likely one.\n",
    "\n",
    "### Different Flavors of Language Models:\n",
    "\n",
    "1. **N-gram Models**: These simpler models look at a fixed number of previous words (bigrams consider two, trigrams consider three) to predict the next.\n",
    "2. **Neural Network Models**: These more sophisticated models use artificial neural networks to capture complex patterns in language.\n",
    "3. **Transformer Models**: The latest breakthrough, these models use attention mechanisms to weigh the importance of different words in a sequence, leading to remarkable performance."
   ]
  },
  {
   "cell_type": "markdown",
   "id": "6c368ed5-65cd-41dd-97fb-fe1d399fe10d",
   "metadata": {},
   "source": [
    "## N-gram model"
   ]
  },
  {
   "cell_type": "markdown",
   "id": "5180340f-71be-4aff-961a-3b22375bd169",
   "metadata": {},
   "source": [
    "An n-gram is a sequence of n words. For instance, \"please turn\" and \"turn your\" are bigrams (2-grams), while \"please turn your\" is a trigram (3-gram). N-gram models estimate the probability of a word given the preceding n-1 words.\n",
    "\n",
    "To calculate the probability of a word w given a history h, we can use relative frequency counts from a large corpus:\n",
    "\n",
    "$P(w|h) = C(hw) / C(h)$"
   ]
  },
  {
   "cell_type": "markdown",
   "id": "fede44c2-421e-4e72-8e30-198a1a4ec405",
   "metadata": {},
   "source": [
    "where:\n",
    "\n",
    "- P(w|h) is the probability of word w given history h.\n",
    "- C(hw) is the count of the sequence hw in the corpus.\n",
    "- C(h) is the count of the history h in the corpus."
   ]
  },
  {
   "cell_type": "markdown",
   "id": "2425c950-f135-4764-9091-d0c76924cb87",
   "metadata": {},
   "source": [
    "However, this approach is limited due to the vastness and creativity of language. Many possible word sequences might not exist in even the largest corpus."
   ]
  },
  {
   "cell_type": "markdown",
   "id": "fe5241c8-8dd1-42e0-a342-35c521972611",
   "metadata": {},
   "source": [
    "### Bi-gram model using pytorch"
   ]
  },
  {
   "cell_type": "markdown",
   "id": "e5281958-543a-418b-9f77-e30e9619279c",
   "metadata": {},
   "source": [
    "Here, we will implement bi-gram model using pytorch. Although simple but bigram model can surprise the readers with its surprising predictive power and ability to capture meaningful patterns in text data."
   ]
  },
  {
   "cell_type": "markdown",
   "id": "daa02342-4170-42b1-99f9-61cdd23095c0",
   "metadata": {},
   "source": [
    "### Bigram model\n",
    "\n",
    "A bigram model operates on fundamental premise: the probability of a word appearing in a text sequence is heavily influences by the word that preceeds it. By analyzing the large corpora of text, we can calculate the additional probabilities of a word pairs. For instance, the probability of encountering the word 'morning' given the preceeding word 'good' is relatively high"
   ]
  },
  {
   "cell_type": "markdown",
   "id": "e2a9ad38-5b83-4b75-9468-82c43fe4b8d1",
   "metadata": {},
   "source": [
    "Let's illustrate this concept with an example using the following text corpus"
   ]
  },
  {
   "cell_type": "markdown",
   "id": "92be69f4-d525-4569-9f62-74bcd66cce84",
   "metadata": {},
   "source": [
    "\"The cat sat on the mat. The dog chased the cat\""
   ]
  },
  {
   "cell_type": "markdown",
   "id": "214b1346-c5b1-4a9e-bcfa-076636d72d25",
   "metadata": {},
   "source": [
    "**1. Tokenization**\n",
    "- Split the corpus into individual words: [\"the\", \"cat\", \"sat\", \"on\", \"the\", \"mat\", \"the\", \"dog\", \"chased\", \"the\", \"cat\"]\n",
    "\n",
    "**2. Create bi-gram pairs**\n",
    "- Pair consecutive words: [(\"the\", \"cat\"), (\"cat\", \"sat\"), (\"sat\", \"on\"), (\"on\", \"the\"), (\"the\", \"mat\"), (\"mat\", \"the\"), (\"the\", \"dog\"), (\"dog\", \"chased\"), (\"chased\", \"the\"), (\"the\", \"cat\")]\n",
    "\n",
    "**3. Calculate probabilities**\n",
    "- Count the occurence of each bi-gram pair\n",
    "- Calculate the probability of second word given the first word\n",
    "  e.g. $$P( cat | the ) = 2/4$$"
   ]
  },
  {
   "cell_type": "markdown",
   "id": "dee50376-50c8-41a1-9cec-7547f712af04",
   "metadata": {},
   "source": [
    "### Dataset"
   ]
  },
  {
   "cell_type": "markdown",
   "id": "2edaad63-5b28-4370-a825-700d198c5a7d",
   "metadata": {},
   "source": [
    "To train our language model, we will work on wikipedia dataset. In the following section, we will download the raw wikitext, tokenize it and prepare for training"
   ]
  },
  {
   "cell_type": "code",
   "execution_count": 29,
   "id": "6e0c3128-1c91-41ec-a490-84bf8f12bc3d",
   "metadata": {},
   "outputs": [],
   "source": [
    "from datasets import load_dataset\n",
    "import torch\n",
    "\n",
    "# Load the Wikitext dataset (this might take a while for the first download)\n",
    "dataset = load_dataset(\"wikitext\", \"wikitext-2-raw-v1\")\n",
    "\n",
    "# Preprocessing function to tokenize the text\n",
    "def tokenize_function(examples):\n",
    "    return {\"text\": [text.lower().split() for text in examples[\"text\"]]}\n",
    "\n",
    "# Apply the preprocessing function\n",
    "tokenized_dataset = dataset.map(tokenize_function, batched=True, remove_columns=[\"text\"])"
   ]
  },
  {
   "cell_type": "markdown",
   "id": "29b26599-588f-4a74-b3a5-ff3d8a96b9de",
   "metadata": {},
   "source": [
    "This code loads the Wikitext dataset, a large collection of text from Wikipedia articles. It then tokenizes the text, breaking it down into individual words (or tokens), and converts the words to lowercase. The original text is removed, leaving a dataset where each entry is a list of lowercase word tokens. This is a standard preprocessing step in natural language processing (NLP) tasks."
   ]
  },
  {
   "cell_type": "markdown",
   "id": "5a970dc8-c688-4851-86fe-c8505bb8e578",
   "metadata": {},
   "source": [
    "### Pytorch implementation"
   ]
  },
  {
   "cell_type": "code",
   "execution_count": 30,
   "id": "6730e759-6db0-44a9-b81d-e3e008827676",
   "metadata": {},
   "outputs": [],
   "source": [
    "# Combine all tokens for vocabulary and matrix construction\n",
    "all_tokens = [token for tokens in tokenized_dataset[\"train\"][\"text\"] for token in tokens]\n",
    "\n",
    "vocab = list(set(all_tokens))\n",
    "word_to_idx = {word: idx for idx, word in enumerate(vocab)}\n",
    "\n",
    "bigram_counts = torch.ones((len(vocab), len(vocab)))\n",
    "\n",
    "for tokens in tokenized_dataset[\"train\"][\"text\"]:\n",
    "    for i in range(len(tokens) - 1):\n",
    "        bigram_counts[word_to_idx[tokens[i]], word_to_idx[tokens[i + 1]]] += 1\n",
    "\n",
    "bigram_probs = bigram_counts / bigram_counts.sum(dim=1, keepdim=True)"
   ]
  },
  {
   "cell_type": "markdown",
   "id": "23579b44-a749-45ed-9a7e-dec1c2d0fe88",
   "metadata": {},
   "source": [
    "This code creates a vocabulary of all unique words from the training data and assigns each word a numerical index. It then builds a matrix (bigram_counts) to track the frequency of each word pair (bigram) that appears in the training text. Finally, it calculates the probability of each bigram occurring given the preceding word (bigram_probs). This is a key step in creating a bigram language model."
   ]
  },
  {
   "cell_type": "code",
   "execution_count": 31,
   "id": "d23747b0-86a6-4041-845f-df5e157ee8a9",
   "metadata": {},
   "outputs": [],
   "source": [
    "class BigramModel:\n",
    "    def __init__(self, vocab, bigram_probs):\n",
    "        self.vocab = vocab\n",
    "        self.bigram_probs = bigram_probs\n",
    "\n",
    "    def calculate_probability(self, sentence):\n",
    "        prob = 1.0  # Initial probability\n",
    "        words = sentence.lower().split()  # Ensure case-insensitivity\n",
    "        for i in range(len(words) - 1):\n",
    "            if words[i] in self.vocab and words[i + 1] in self.vocab:\n",
    "                prob *= self.bigram_probs[\n",
    "                    self.vocab.index(words[i]), self.vocab.index(words[i + 1])\n",
    "                ]\n",
    "            else:\n",
    "                # Handle unknown words (you can use smoothing techniques like add-1)\n",
    "                prob *= 1e-8  # A small probability for unseen bigrams\n",
    "        return prob\n",
    "\n",
    "    def generate(self, start_word=\"the\", max_length=20):\n",
    "        generated_text = [start_word]\n",
    "        current_word = start_word\n",
    "\n",
    "        for _ in range(max_length - 1):\n",
    "            if current_word not in self.vocab:\n",
    "                # If the word isn't in the vocabulary, end the generation\n",
    "                break \n",
    "            next_word_probs = self.bigram_probs[self.vocab.index(current_word)]\n",
    "\n",
    "            # Sample the next word based on probabilities\n",
    "            next_word_idx = torch.multinomial(next_word_probs, 1).item()\n",
    "            next_word = self.vocab[next_word_idx]\n",
    "            generated_text.append(next_word)\n",
    "            current_word = next_word  # Update the current word for the next step\n",
    "\n",
    "        return \" \".join(generated_text)\n",
    "\n",
    "# Create an instance of the BigramModel\n",
    "model = BigramModel(vocab, bigram_probs)"
   ]
  },
  {
   "cell_type": "markdown",
   "id": "aaf1692b-807e-49e8-a350-753284862105",
   "metadata": {},
   "source": [
    "This code defines a BigramModel class.  Here's what it does:\n",
    "\n",
    "- **init**: Initializes the model with the vocabulary and bigram probabilities.\n",
    "- **calculate_probability**: Takes a sentence and calculates the probability of it occurring under the bigram model. It handles unseen bigrams (words that don't appear together in the training data) by assigning them a very low probability.\n",
    "- **generate**: Generates new text based on the model. Starting from a given word (or the word \"the\" by default), it samples the next word based on the bigram probabilities, and continues until it reaches the maximum length or encounters a word not in the vocabulary."
   ]
  },
  {
   "cell_type": "markdown",
   "id": "e9e536fe-9cc5-409d-86cd-b1e905f3e92a",
   "metadata": {},
   "source": [
    "Here is how we can generate the output:"
   ]
  },
  {
   "cell_type": "markdown",
   "id": "1ff80a78-1c17-48ac-9ff0-3eb4e27c7af4",
   "metadata": {},
   "source": [
    "model.generate()"
   ]
  },
  {
   "cell_type": "markdown",
   "id": "f2797dfb-c682-4740-9605-c2d2d04c97cd",
   "metadata": {},
   "source": [
    "We can also use this model to generate the probability of a sentence."
   ]
  },
  {
   "cell_type": "code",
   "execution_count": 32,
   "id": "d4c10356-1b9b-4d7d-9039-c362f358dc6a",
   "metadata": {},
   "outputs": [
    {
     "name": "stdout",
     "output_type": "stream",
     "text": [
      "Probability of 'the cat sat on the mat': 9.656807616385803e-20\n",
      "Probability of 'the cat jumped over the moon': 5.83346638030119e-20\n"
     ]
    }
   ],
   "source": [
    "sentence1 = \"the cat sat on the mat\"\n",
    "sentence2 = \"the cat jumped over the moon\"\n",
    "\n",
    "prob1 = model.calculate_probability(sentence1)\n",
    "prob2 = model.calculate_probability(sentence2)\n",
    "\n",
    "print(f\"Probability of '{sentence1}': {prob1}\")\n",
    "print(f\"Probability of '{sentence2}': {prob2}\")"
   ]
  },
  {
   "cell_type": "code",
   "execution_count": 33,
   "id": "930bfffe-4d6e-44cc-bd2b-08fd58ab8689",
   "metadata": {},
   "outputs": [],
   "source": [
    "def calculate_perplexity(model, dataset):\n",
    "    total_log_prob = 0\n",
    "    num_tokens = 0\n",
    "    for tokens in dataset[\"text\"]:\n",
    "        sentence_log_prob = 0\n",
    "        for i in range(len(tokens) - 1):\n",
    "            if tokens[i] in model.vocab and tokens[i + 1] in model.vocab:\n",
    "                sentence_log_prob += torch.log(\n",
    "                    model.bigram_probs[\n",
    "                        model.vocab.index(tokens[i]), model.vocab.index(tokens[i + 1])\n",
    "                    ]\n",
    "                )\n",
    "            else:\n",
    "                # Handle unknown words (using add-1 smoothing)\n",
    "                sentence_log_prob += torch.log(torch.tensor(1e-8))\n",
    "        total_log_prob += sentence_log_prob\n",
    "        num_tokens += len(tokens) - 1  # Subtract 1 for the last token in each sentence\n",
    "    perplexity = torch.exp(-total_log_prob / num_tokens)\n",
    "    return perplexity"
   ]
  },
  {
   "cell_type": "code",
   "execution_count": 34,
   "id": "d10bd896-1f1c-4f01-9d90-f86aeabb2304",
   "metadata": {},
   "outputs": [
    {
     "name": "stdout",
     "output_type": "stream",
     "text": [
      "Perplexity on the validation set: 9393.72\n"
     ]
    }
   ],
   "source": [
    "perplexity = calculate_perplexity(model, tokenized_dataset[\"validation\"])\n",
    "print(f\"Perplexity on the validation set: {perplexity:.2f}\")"
   ]
  },
  {
   "cell_type": "markdown",
   "id": "c9b08eaa-f74d-4115-a75b-823685161081",
   "metadata": {},
   "source": [
    "Perplexity of the model is quite high. Let's see if we can improve using RNN"
   ]
  },
  {
   "cell_type": "markdown",
   "id": "d8cc1e69-0b55-4f94-941c-544079ca7815",
   "metadata": {},
   "source": [
    "### Limitations & Enhancements\n",
    "While our bigram model demonstrates the concept, it has limitations due to its simplicity. Real-word text generation often requires more sophisticated models like Recurrent Neural Networks (RNNs) or Transformers. However the bi-gram model serves as a foundational stepping stone for understanding the underlying principles of text generation\n",
    "\n",
    "In the next section, we will delve into more advanced techniques and explore how to build upon this basic model to create more sophisticated text generation systems"
   ]
  },
  {
   "cell_type": "markdown",
   "id": "2d09a93c-181d-4325-978d-c4b8d9d5e9b9",
   "metadata": {},
   "source": [
    "## Recurrent Neural network\n",
    "\n",
    "Imagine reading a book. You don't start from scratch with each word; you carry the context of previous sentences in your mind. RNNs emulate this behavior by maintaining a hidden state that evolves as it processes each word in a sequence. This hidden state acts as a memory, encoding information from previous time steps, allowing the model to make predictions based on both the current input and accumulated context.\n"
   ]
  },
  {
   "cell_type": "markdown",
   "id": "d2f34d2b-dc56-4f02-8fa5-249c7c341c00",
   "metadata": {},
   "source": [
    "### A simple RNN structure"
   ]
  },
  {
   "cell_type": "markdown",
   "id": "91f8b79d-3b31-4214-8628-136c7018ad8f",
   "metadata": {},
   "source": [
    "At its core, an RNN consists of a repeating unit (cell) that takes two inputs: the current current word and the previous hidden state. It produces two outputs: an updated hidden state and a prediction for the next word. This structure allows the RNN to process sequences of aribtrary length, making it suitable for text generation"
   ]
  },
  {
   "cell_type": "code",
   "execution_count": 35,
   "id": "7790f6ca-171a-4f4d-9557-3e35ddba4cbb",
   "metadata": {},
   "outputs": [],
   "source": [
    "import torch\n",
    "import torch.nn as nn\n",
    "\n",
    "class SimpleRNN(nn.Module):\n",
    "    def __init__(self, vocab_size, hidden_size):\n",
    "        super().__init__()\n",
    "        self.embedding = nn.Embedding(vocab_size, hidden_size)\n",
    "        self.rnn = nn.RNN(hidden_size, hidden_size)\n",
    "        self.linear = nn.Linear(hidden_size, vocab_size)\n",
    "\n",
    "    def forward(self, input, hidden):\n",
    "        embedded = self.embedding(input)\n",
    "        output, hidden = self.rnn(embedded, hidden)\n",
    "        output = self.linear(output)\n",
    "        return output, hidden"
   ]
  },
  {
   "cell_type": "markdown",
   "id": "3d2f1255-0d8b-473c-953c-69738b9db34c",
   "metadata": {},
   "source": [
    "### Training and text generation\n",
    "\n",
    "Training an RNN involves feeding it sequences of text and adjusting its parameters to minimize the difference between its predictions and the actual next words. Once trained, we can generate text by providing a starting word and iteratively sampling from the model's output distribution."
   ]
  },
  {
   "cell_type": "markdown",
   "id": "c5f64fb8-8647-48a2-9df9-d2b2139df715",
   "metadata": {},
   "source": [
    "### Attention Mechanism: Focus where it matters"
   ]
  },
  {
   "cell_type": "markdown",
   "id": "8df51a10-bfc7-4ac1-af28-254d0a075d1a",
   "metadata": {},
   "source": [
    "A crucial enhancement to RNNs is the attention mechanism. In text generation, not all parts of the input sequence are equally important for predicting the next word. Attention allows the model to focus on relevant parts of the input while making predictions. It's like shining a spotlight on specific words or phrases that are most informative for the current context."
   ]
  },
  {
   "cell_type": "markdown",
   "id": "6f78b559-c75a-41bd-b703-2463f9abb4ea",
   "metadata": {},
   "source": [
    "Huggingface models need a config object to instantiate the parameters of the model"
   ]
  },
  {
   "cell_type": "code",
   "execution_count": 36,
   "id": "3daa8474-516c-4d46-8f1c-6ec251e7a58e",
   "metadata": {},
   "outputs": [],
   "source": [
    "class AttentionConfig(PretrainedConfig):\n",
    "    model_type = \"custom_attention\"\n",
    "    def __init__(\n",
    "        self,\n",
    "        vocab_size=50257,\n",
    "        hidden_size=124,\n",
    "        **kwargs\n",
    "    ):\n",
    "        super().__init__(**kwargs)\n",
    "        self.vocab_size = vocab_size\n",
    "        self.hidden_size = hidden_size\n"
   ]
  },
  {
   "cell_type": "markdown",
   "id": "9761177a-b171-4996-9963-34d241822b0f",
   "metadata": {},
   "source": [
    "Here we define our RNN model with attention. Attentions works by allowing a model to focus on different parts of its input based on the relevance of each part to the task at hand. In essence, it dynamically weights the input elements to emphasize the most important ones for the current context."
   ]
  },
  {
   "cell_type": "code",
   "execution_count": 37,
   "id": "00e1cd31-e4fc-45e6-bb7d-172ef02ee241",
   "metadata": {},
   "outputs": [],
   "source": [
    "class Attention(nn.Module):\n",
    "    def __init__(self, query_dim, key_dim, value_dim):\n",
    "        super().__init__()\n",
    "        self.scale = 1./math.sqrt(query_dim)\n",
    "\n",
    "    def forward(self, query, keys, values):\n",
    "        #query = query.unsqueeze(1)\n",
    "        keys = keys.transpose(1,2)\n",
    "        attention = torch.bmm(query, keys)\n",
    "        attention = F.softmax(attention.mul_(self.scale), dim=2)\n",
    "        weighted_values = torch.bmm(attention, values).squeeze(1)\n",
    "        return attention, weighted_values"
   ]
  },
  {
   "cell_type": "markdown",
   "id": "fad8ad9a-72c3-4d35-9c1b-8ffc711c5377",
   "metadata": {},
   "source": [
    "**Forward Pass**\n",
    "\n",
    "This defines the core functionality of the attention module, how it processes input during model's forward pass. It takes three input tensors:\n",
    "\n",
    "- `query` : Query vector ( what model is looking for )\n",
    "- `keys` : A set of key vectors ( what model can attend to )\n",
    "- `values` : The values associated with each key. ( what model will retrieve )\n",
    "\n",
    "Here is how the forward method works:\n",
    "\n",
    "- **Transpose keys**: The keys matrix is transposed to prepare it for matrix multiplication.\n",
    "- **Calculate attention scores**: The query and transposed keys are multiplied using batch matrix multiplication (torch.bmm). This produces a matrix where each element represents the similarity (or \"attention\") between a query and a key.\n",
    "- Scale and normalize: The attention scores are multiplied by the scaling factor and then normalized using the softmax function. This ensures that the attention scores for each query sum to 1.\n",
    "- **Weighted values**: The normalized attention scores are used to compute a weighted sum of the value vectors. This produces a new representation of the input sequence, where each element is a weighted combination of the original values, with weights determined by the attention mechanism."
   ]
  },
  {
   "cell_type": "markdown",
   "id": "acd8ca4e-8b57-4d23-b0a0-937811173ecb",
   "metadata": {},
   "source": [
    "**<TODO: Add diagram>**\n",
    "\n",
    "Here is the model definition for RNN with self attention mechanism."
   ]
  },
  {
   "cell_type": "code",
   "execution_count": 38,
   "id": "8dc0365f-7985-46d1-bb5d-79ff9bdefb04",
   "metadata": {},
   "outputs": [],
   "source": [
    "\n",
    "class RNNWithAttention(PreTrainedModel):\n",
    "    config_class = AttentionConfig\n",
    "\n",
    "    def __init__(self, config):\n",
    "        super().__init__(config)\n",
    "        self.config = config\n",
    "        self.embedding = nn.Embedding(config.vocab_size, config.hidden_size)\n",
    "        self.rnn = nn.RNN(config.hidden_size, config.hidden_size, batch_first=True)\n",
    "        self.attention = Attention(config.hidden_size, config.hidden_size, config.hidden_size)\n",
    "        self.linear = nn.Linear(config.hidden_size, config.vocab_size)\n",
    "\n",
    "    def forward(self, input_ids, attention_mask=None, labels=None, **kwargs):\n",
    "\n",
    "        batch_size, seq_length = input_ids.shape\n",
    "        embedded = self.embedding(input_ids)\n",
    "\n",
    "        rnn_output, _ = self.rnn(embedded)\n",
    "        outputs= []\n",
    "\n",
    "        attention=None\n",
    "        for t in range(seq_length):\n",
    "            # get current hidden state\n",
    "            hidden = rnn_output[:, t,:].unsqueeze(1) # [Bx1xH]\n",
    "\n",
    "            # apply attention\n",
    "            attention, weighted_value = self.attention(\n",
    "                    hidden,\n",
    "                    rnn_output[:,:t+1,:],\n",
    "                    rnn_output[:,:t+1,:]\n",
    "            )\n",
    "\n",
    "            # generate output\n",
    "            output = self.linear(weighted_value)\n",
    "            outputs.append(output)\n",
    "\n",
    "        logits = torch.stack(outputs,dim=1)\n",
    "\n",
    "        loss = None\n",
    "        if labels is not None:\n",
    "            loss_fct = nn.CrossEntropyLoss()\n",
    "            shift_logits = logits[...,:-1,:].contiguous()\n",
    "            shift_labels = labels[...,1:].contiguous()\n",
    "            loss = loss_fct(shift_logits.view(-1, shift_logits.size(-1)), shift_labels.view(-1))\n",
    "\n",
    "        return CausalLMOutputWithCrossAttentions(\n",
    "            loss=loss,\n",
    "            logits=logits,\n",
    "            attentions=attention\n",
    "        )\n",
    "\n",
    "    def prepare_inputs_for_generation(self, input_ids, past=None, **kwargs):\n",
    "        return {\n",
    "            \"input_ids\": input_ids\n",
    "        }\n",
    "\n",
    "    @staticmethod\n",
    "    def _reorder_cache(past, beam_idx):\n",
    "        return past\n",
    "        "
   ]
  },
  {
   "cell_type": "markdown",
   "id": "7bd4b993-b0c4-4942-a8e8-ef941ed91241",
   "metadata": {},
   "source": [
    " RNN-based language models generate text by first encoding an input sequence into a series of hidden states using RNN encoder. Attention mechanism then calculates the attention scores for each hidden state, indicating their importance for predicting the next word\n",
    "\n",
    "\n",
    "These attention scores are then used to create a weighted context vector, representing a summary of the most relevant information from the input sequence. This context vector, along with the previous predicted word, is fed into an RNN decoder, which produces a probability dsistribution over the vocabulary. The model then selects the next word either by sampling from this distribution or choosing the most likely word, repeating this process to generate the entire text sequence."
   ]
  },
  {
   "cell_type": "markdown",
   "id": "0b747463-7da1-46fe-b871-3310bebadaa3",
   "metadata": {},
   "source": [
    "### Training"
   ]
  },
  {
   "cell_type": "markdown",
   "id": "935e6157-0045-435e-86f1-8602e8914854",
   "metadata": {},
   "source": [
    "To train our model on the intricacies of language, we'll leverage the powerful Hugging Face Trainer API. We'll use a publicly available dataset containing wikipedia articles. This is usually a dump of all the articles made on a specific date. Our goal is to learn the language structure with RNN"
   ]
  },
  {
   "cell_type": "code",
   "execution_count": 39,
   "id": "bd48f90d-6f6a-42fc-b66e-266de8bb54f8",
   "metadata": {},
   "outputs": [],
   "source": [
    "# Load and preprocess the dataset\n",
    "dataset = load_dataset(\"wikitext\", \"wikitext-2-raw-v1\")\n",
    "tokenizer = AutoTokenizer.from_pretrained(\"gpt2\")\n",
    "\n",
    "tokenizer.pad_token = tokenizer.eos_token"
   ]
  },
  {
   "cell_type": "markdown",
   "id": "74f6b840-4963-4e4d-91d9-24f7dad8cc2b",
   "metadata": {},
   "source": [
    "To tokenize, we will use `Huggingface Tokenizers`. This knows how to parse the raw text and convert it into tokens."
   ]
  },
  {
   "cell_type": "code",
   "execution_count": 40,
   "id": "b9f065b4-e2f8-4eb6-ad56-b541b54c6253",
   "metadata": {},
   "outputs": [],
   "source": [
    "def tokenize_function(examples):\n",
    "    return tokenizer(examples[\"text\"], truncation=True, max_length=128)\n",
    "\n",
    "\n",
    "tokenized_datasets = (dataset.map(tokenize_function, batched=True, num_proc=4, remove_columns=[\"text\"])\n",
    "                     )"
   ]
  },
  {
   "cell_type": "markdown",
   "id": "1ac012ea-2b16-4c98-a97d-ac4174ed9851",
   "metadata": {},
   "source": [
    "This is huggingface specific. We need to create config for each model to train. This config contains model parameters to be used for initialization."
   ]
  },
  {
   "cell_type": "code",
   "execution_count": 41,
   "id": "685d0624-6f1f-46eb-b9d9-b1b9a0258bc6",
   "metadata": {},
   "outputs": [],
   "source": [
    "# Create the model and configure training\n",
    "config = AttentionConfig()\n",
    "model = RNNWithAttention(config)"
   ]
  },
  {
   "cell_type": "code",
   "execution_count": 42,
   "id": "40d14a1c-3aa7-49a4-93ea-b898bc4a8b99",
   "metadata": {},
   "outputs": [],
   "source": [
    "training_args = TrainingArguments(\n",
    "    output_dir=\"./results\",\n",
    "    num_train_epochs=10,\n",
    "    per_device_train_batch_size=128,\n",
    "    per_device_eval_batch_size=128,\n",
    "    warmup_steps=100,\n",
    "    logging_steps=100,\n",
    "    weight_decay=0.01,\n",
    "    logging_dir=\"./logs\",\n",
    "    #gradient_checkpointing=True,\n",
    "    fp16=True,\n",
    "    learning_rate=1e-2,\n",
    "    optim=\"adafactor\"\n",
    "    \n",
    ")"
   ]
  },
  {
   "cell_type": "code",
   "execution_count": 45,
   "id": "73391362-738d-49e3-855b-218d97e32d5a",
   "metadata": {
    "editable": true,
    "slideshow": {
     "slide_type": ""
    },
    "tags": []
   },
   "outputs": [],
   "source": [
    "# Create the Trainer\n",
    "trainer = Trainer(\n",
    "    model=model,\n",
    "    args=training_args,\n",
    "    train_dataset=tokenized_datasets[\"train\"],\n",
    "    eval_dataset=tokenized_datasets[\"validation\"],\n",
    "    data_collator=DataCollatorForLanguageModeling(tokenizer=tokenizer, mlm=False),\n",
    ")\n"
   ]
  },
  {
   "cell_type": "code",
   "execution_count": 53,
   "id": "fda9f350-5427-4595-aa05-0fdc1e368691",
   "metadata": {
    "editable": true,
    "slideshow": {
     "slide_type": ""
    },
    "tags": [
     "remove-cell"
    ]
   },
   "outputs": [
    {
     "data": {
      "text/html": [
       "\n",
       "    <div>\n",
       "      \n",
       "      <progress value='2870' max='2870' style='width:300px; height:20px; vertical-align: middle;'></progress>\n",
       "      [2870/2870 07:41, Epoch 10/10]\n",
       "    </div>\n",
       "    <table border=\"1\" class=\"dataframe\">\n",
       "  <thead>\n",
       " <tr style=\"text-align: left;\">\n",
       "      <th>Step</th>\n",
       "      <th>Training Loss</th>\n",
       "    </tr>\n",
       "  </thead>\n",
       "  <tbody>\n",
       "    <tr>\n",
       "      <td>100</td>\n",
       "      <td>5.046100</td>\n",
       "    </tr>\n",
       "    <tr>\n",
       "      <td>200</td>\n",
       "      <td>5.247000</td>\n",
       "    </tr>\n",
       "    <tr>\n",
       "      <td>300</td>\n",
       "      <td>5.169800</td>\n",
       "    </tr>\n",
       "    <tr>\n",
       "      <td>400</td>\n",
       "      <td>4.918200</td>\n",
       "    </tr>\n",
       "    <tr>\n",
       "      <td>500</td>\n",
       "      <td>5.003900</td>\n",
       "    </tr>\n",
       "    <tr>\n",
       "      <td>600</td>\n",
       "      <td>4.905400</td>\n",
       "    </tr>\n",
       "    <tr>\n",
       "      <td>700</td>\n",
       "      <td>4.645400</td>\n",
       "    </tr>\n",
       "    <tr>\n",
       "      <td>800</td>\n",
       "      <td>4.758800</td>\n",
       "    </tr>\n",
       "    <tr>\n",
       "      <td>900</td>\n",
       "      <td>4.631000</td>\n",
       "    </tr>\n",
       "    <tr>\n",
       "      <td>1000</td>\n",
       "      <td>4.449500</td>\n",
       "    </tr>\n",
       "    <tr>\n",
       "      <td>1100</td>\n",
       "      <td>4.537300</td>\n",
       "    </tr>\n",
       "    <tr>\n",
       "      <td>1200</td>\n",
       "      <td>4.368400</td>\n",
       "    </tr>\n",
       "    <tr>\n",
       "      <td>1300</td>\n",
       "      <td>4.279100</td>\n",
       "    </tr>\n",
       "    <tr>\n",
       "      <td>1400</td>\n",
       "      <td>4.356300</td>\n",
       "    </tr>\n",
       "    <tr>\n",
       "      <td>1500</td>\n",
       "      <td>4.164800</td>\n",
       "    </tr>\n",
       "    <tr>\n",
       "      <td>1600</td>\n",
       "      <td>4.120800</td>\n",
       "    </tr>\n",
       "    <tr>\n",
       "      <td>1700</td>\n",
       "      <td>4.198600</td>\n",
       "    </tr>\n",
       "    <tr>\n",
       "      <td>1800</td>\n",
       "      <td>3.992700</td>\n",
       "    </tr>\n",
       "    <tr>\n",
       "      <td>1900</td>\n",
       "      <td>3.997100</td>\n",
       "    </tr>\n",
       "    <tr>\n",
       "      <td>2000</td>\n",
       "      <td>4.038100</td>\n",
       "    </tr>\n",
       "    <tr>\n",
       "      <td>2100</td>\n",
       "      <td>3.833600</td>\n",
       "    </tr>\n",
       "    <tr>\n",
       "      <td>2200</td>\n",
       "      <td>3.869300</td>\n",
       "    </tr>\n",
       "    <tr>\n",
       "      <td>2300</td>\n",
       "      <td>3.901300</td>\n",
       "    </tr>\n",
       "    <tr>\n",
       "      <td>2400</td>\n",
       "      <td>3.720400</td>\n",
       "    </tr>\n",
       "    <tr>\n",
       "      <td>2500</td>\n",
       "      <td>3.758200</td>\n",
       "    </tr>\n",
       "    <tr>\n",
       "      <td>2600</td>\n",
       "      <td>3.758200</td>\n",
       "    </tr>\n",
       "    <tr>\n",
       "      <td>2700</td>\n",
       "      <td>3.648400</td>\n",
       "    </tr>\n",
       "    <tr>\n",
       "      <td>2800</td>\n",
       "      <td>3.653100</td>\n",
       "    </tr>\n",
       "  </tbody>\n",
       "</table><p>"
      ],
      "text/plain": [
       "<IPython.core.display.HTML object>"
      ]
     },
     "metadata": {},
     "output_type": "display_data"
    },
    {
     "data": {
      "text/plain": [
       "TrainOutput(global_step=2870, training_loss=4.304410098404834, metrics={'train_runtime': 462.0655, 'train_samples_per_second': 794.649, 'train_steps_per_second': 6.211, 'total_flos': 1780264886400000.0, 'train_loss': 4.304410098404834, 'epoch': 10.0})"
      ]
     },
     "execution_count": 53,
     "metadata": {},
     "output_type": "execute_result"
    }
   ],
   "source": [
    "# Train the model\n",
    "trainer.train()"
   ]
  },
  {
   "cell_type": "code",
   "execution_count": 54,
   "id": "20c0d74e-ed3f-4901-b334-90409bcdf8ad",
   "metadata": {},
   "outputs": [],
   "source": [
    "trainer.save_model('bin/model_128_006')"
   ]
  },
  {
   "cell_type": "code",
   "execution_count": 55,
   "id": "77989482-2e41-4803-a03b-52c86873c486",
   "metadata": {},
   "outputs": [],
   "source": [
    "model = RNNWithAttention.from_pretrained('bin/model_128_006')"
   ]
  },
  {
   "cell_type": "markdown",
   "id": "23ef2b51-266c-4328-9f01-3fc7566c1810",
   "metadata": {},
   "source": [
    "# Generation"
   ]
  },
  {
   "cell_type": "markdown",
   "id": "5ac6f046-ee0d-41ac-85f8-f6d053e4dabd",
   "metadata": {},
   "source": [
    "We will now use `huggingface pipeline` api to generate the text."
   ]
  },
  {
   "cell_type": "code",
   "execution_count": 2,
   "id": "77ab584e-2cb8-4a0a-b55f-90d2bed0937c",
   "metadata": {},
   "outputs": [],
   "source": [
    "from transformers import AutoTokenizer, pipeline\n"
   ]
  },
  {
   "cell_type": "code",
   "execution_count": 57,
   "id": "5c8bda71-bd63-452f-b9fb-f5d0e65c283c",
   "metadata": {},
   "outputs": [
    {
     "name": "stdout",
     "output_type": "stream",
     "text": [
      "The quick brown fox, the long @-@ brick terrace, Ders conceded varsity coach. He did this lives, as well asigned and roll, microorganisms, specifically females leave the term F @-@ for death in a Comedy Series, in the United States's appointment at Artistsers, John photography Blues Lane – a daughter and Co @-@ nation tropes often referred to as the mainchandised Princess aviation, and had to purchase a heavier solution will to rarity with\n"
     ]
    }
   ],
   "source": [
    "generated_texts = model.manual_generate(\n",
    "    \"The quick brown fox\", tokenizer, max_length=100\n",
    ")\n",
    "print(generated_texts)"
   ]
  },
  {
   "cell_type": "code",
   "execution_count": 69,
   "id": "a24ab8c7-0711-4ff9-b795-19073bb6befc",
   "metadata": {},
   "outputs": [
    {
     "name": "stderr",
     "output_type": "stream",
     "text": [
      "The model 'RNNWithAttention' is not supported for text-generation. Supported models are ['BartForCausalLM', 'BertLMHeadModel', 'BertGenerationDecoder', 'BigBirdForCausalLM', 'BigBirdPegasusForCausalLM', 'BioGptForCausalLM', 'BlenderbotForCausalLM', 'BlenderbotSmallForCausalLM', 'BloomForCausalLM', 'CamembertForCausalLM', 'LlamaForCausalLM', 'CodeGenForCausalLM', 'CohereForCausalLM', 'CpmAntForCausalLM', 'CTRLLMHeadModel', 'Data2VecTextForCausalLM', 'DbrxForCausalLM', 'ElectraForCausalLM', 'ErnieForCausalLM', 'FalconForCausalLM', 'FuyuForCausalLM', 'GemmaForCausalLM', 'GitForCausalLM', 'GPT2LMHeadModel', 'GPT2LMHeadModel', 'GPTBigCodeForCausalLM', 'GPTNeoForCausalLM', 'GPTNeoXForCausalLM', 'GPTNeoXJapaneseForCausalLM', 'GPTJForCausalLM', 'JambaForCausalLM', 'JetMoeForCausalLM', 'LlamaForCausalLM', 'MambaForCausalLM', 'MarianForCausalLM', 'MBartForCausalLM', 'MegaForCausalLM', 'MegatronBertForCausalLM', 'MistralForCausalLM', 'MixtralForCausalLM', 'MptForCausalLM', 'MusicgenForCausalLM', 'MusicgenMelodyForCausalLM', 'MvpForCausalLM', 'OlmoForCausalLM', 'OpenLlamaForCausalLM', 'OpenAIGPTLMHeadModel', 'OPTForCausalLM', 'PegasusForCausalLM', 'PersimmonForCausalLM', 'PhiForCausalLM', 'Phi3ForCausalLM', 'PLBartForCausalLM', 'ProphetNetForCausalLM', 'QDQBertLMHeadModel', 'Qwen2ForCausalLM', 'Qwen2MoeForCausalLM', 'RecurrentGemmaForCausalLM', 'ReformerModelWithLMHead', 'RemBertForCausalLM', 'RobertaForCausalLM', 'RobertaPreLayerNormForCausalLM', 'RoCBertForCausalLM', 'RoFormerForCausalLM', 'RwkvForCausalLM', 'Speech2Text2ForCausalLM', 'StableLmForCausalLM', 'Starcoder2ForCausalLM', 'TransfoXLLMHeadModel', 'TrOCRForCausalLM', 'WhisperForCausalLM', 'XGLMForCausalLM', 'XLMWithLMHeadModel', 'XLMProphetNetForCausalLM', 'XLMRobertaForCausalLM', 'XLMRobertaXLForCausalLM', 'XLNetLMHeadModel', 'XmodForCausalLM'].\n"
     ]
    }
   ],
   "source": [
    "generate_text = pipeline(\"text-generation\", model=model, tokenizer=tokenizer)"
   ]
  },
  {
   "cell_type": "code",
   "execution_count": 70,
   "id": "166fd404-c188-4f42-88ce-4fc74356b88e",
   "metadata": {},
   "outputs": [],
   "source": [
    "# generate text\n",
    "result = generate_text(\"The quick brown fox\", max_length =50, do_sample=True, top_k =50, temperature=0.7)"
   ]
  },
  {
   "cell_type": "code",
   "execution_count": 71,
   "id": "e3c08da9-3994-4616-a561-1e5b58d051ce",
   "metadata": {},
   "outputs": [
    {
     "name": "stdout",
     "output_type": "stream",
     "text": [
      "The quick brown foxes, although the wild of the prerogative is usually harmful to the consumption of \" Like the song \" the \" best @-@ pop song \", and \" Ode to Psyche \", which \", she has\n"
     ]
    }
   ],
   "source": [
    "print(result[0]['generated_text'])"
   ]
  },
  {
   "cell_type": "code",
   "execution_count": 72,
   "id": "dccef63f-448a-4957-8f64-b5ae89460d47",
   "metadata": {},
   "outputs": [],
   "source": [
    "eval_f = trainer.evaluate()"
   ]
  },
  {
   "cell_type": "code",
   "execution_count": 73,
   "id": "b517676c-eb9a-4836-bc1a-e59c5e72b791",
   "metadata": {},
   "outputs": [
    {
     "data": {
      "text/plain": [
       "{'eval_loss': 6.330234527587891,\n",
       " 'eval_runtime': 1.4481,\n",
       " 'eval_samples_per_second': 2596.464,\n",
       " 'eval_steps_per_second': 20.716,\n",
       " 'epoch': 10.0}"
      ]
     },
     "execution_count": 73,
     "metadata": {},
     "output_type": "execute_result"
    }
   ],
   "source": [
    "eval_f"
   ]
  },
  {
   "cell_type": "code",
   "execution_count": 74,
   "id": "e385f1dc-38e5-4ce1-95b7-d4b90a7921f0",
   "metadata": {},
   "outputs": [],
   "source": [
    "import math"
   ]
  },
  {
   "cell_type": "code",
   "execution_count": 75,
   "id": "590e8d77-008f-4163-bbd6-1985521aff16",
   "metadata": {},
   "outputs": [],
   "source": [
    "perplexity_f = math.exp(eval_f['eval_loss'])"
   ]
  },
  {
   "cell_type": "code",
   "execution_count": 76,
   "id": "0d9dcb43-b26f-4710-95c8-2788a8c7ff95",
   "metadata": {},
   "outputs": [
    {
     "data": {
      "text/plain": [
       "561.2882159892837"
      ]
     },
     "execution_count": 76,
     "metadata": {},
     "output_type": "execute_result"
    }
   ],
   "source": [
    "perplexity_f"
   ]
  },
  {
   "cell_type": "markdown",
   "id": "ff03e311-43f8-4e1a-afa1-3b1ee241c0f3",
   "metadata": {},
   "source": [
    "We significantly improved the perplexity of the model. Let's see if we can improve further with transformer architecture"
   ]
  },
  {
   "cell_type": "markdown",
   "id": "c0fefe49-769e-4f00-8713-b23124408e04",
   "metadata": {},
   "source": [
    "## Transformer: Architecture"
   ]
  },
  {
   "cell_type": "markdown",
   "id": "a6c229d6-1567-45d2-b6f2-fd8d389507a3",
   "metadata": {},
   "source": [
    "In earlier section, we saw simple RNN model struggling to learn the language but attention model gave a high boost to the language model. There are few drawbacks of RNN with self attention as mentioned below:\n",
    "\n",
    "- **Computation time**\n",
    "- **Only one self attention head**\n",
    "- **Vanishing gradient**"
   ]
  },
  {
   "cell_type": "markdown",
   "id": "73b45a06-4251-467a-acb3-bdd591918a8e",
   "metadata": {},
   "source": [
    "Transformer architecture is built on RNN structures but without above flaws. It does this very cleverly by following a unique mechanism to find the recurrence relation. "
   ]
  },
  {
   "cell_type": "markdown",
   "id": "a9952529-8183-460a-bc41-739f840868c9",
   "metadata": {},
   "source": [
    "![](https://www.it-jim.com/wp-content/uploads/2023/06/attention_research_1-727x1024-1.webp)"
   ]
  },
  {
   "cell_type": "markdown",
   "id": "3f730752-370d-4d42-833b-0cfb36c023a8",
   "metadata": {},
   "source": [
    "Big Large Language models ( LLAMA 3, GPT , Mistral ) etc. are transformer decoder models. They are based on 'classical transformer' which had two blocks: **encoder** on the left and **decoder** on the right. This encoder-decoder architecture is rather arbitrary, and that is not how must transformers model work today. Typically, a moderl transforemr is entier an encoder (Bert Family) or a decoder (GPT family). So, a GPT architecture looks like this:"
   ]
  },
  {
   "cell_type": "markdown",
   "id": "98ec8180-0f4e-4c29-ac73-c266d436c410",
   "metadata": {},
   "source": [
    "![](https://www.it-jim.com/wp-content/uploads/2023/06/Architecture-of-the-GPT-2-Transformer-model-768x633.webp)"
   ]
  },
  {
   "cell_type": "markdown",
   "id": "f7602a84-ecd6-4996-8656-ccaabeba6881",
   "metadata": {},
   "source": [
    "The only difference between **encoder** and **decoder** is that latter is causal. i.e. it cannot go back in time. By 'time' here, we mean the position t=1..T of the token(word) in the sequence. Only decoders can be used for text generation. GPT models are pretty much your garden variety of transformer decoders, and different GPT versions differ pretty much only in size, minor details, and the dataset+training regime. If you understand how GPT works then you undertand all big large language model works. For our purposes, we drew our own simplified GPT-2 digaram with explit tensor dimensions. DOn't worry if it confuses you. We'll explain it step by step in a moment."
   ]
  },
  {
   "cell_type": "markdown",
   "id": "42f0f53d-3357-432d-994e-7589d278f2c4",
   "metadata": {},
   "source": [
    "![](https://www.it-jim.com/wp-content/uploads/2023/06/GPT2-768x452.webp)"
   ]
  },
  {
   "cell_type": "markdown",
   "id": "56e9259e-37ff-4a2b-bece-1a501afce6bc",
   "metadata": {},
   "source": [
    "Let's diive into how transformers work, step by step, using a diagram above"
   ]
  },
  {
   "cell_type": "markdown",
   "id": "6b2483fe-3861-4b7e-921f-31f6df22b9c3",
   "metadata": {},
   "source": [
    "**The components of a Transformer**\n",
    "\n",
    "1. **Input Tokens (BxT):**\n",
    "\n",
    "These are the words or pieces of text that we feed into the transformer. In our example, let's say we have a sentence with three words: \"I love reading.\" Each word is represented by a number (called a token) for the model to understand.\n",
    "In the diagram, we see tokens: 464, 23878, and 16599.\n",
    "\n",
    "2. **Embedder:**\n",
    "\n",
    "The embedder transforms these tokens into a numerical format called embeddings. Think of it as translating each word into a unique code that captures its meaning in a way the model can work with.\n",
    "The embeddings are shown as EMB_IN1, EMB_IN2, and EMB_IN3.\n",
    "\n",
    "3. **Transformer Blocks:**\n",
    "\n",
    "These are the heart of the transformer model. They process the embeddings, allowing the model to understand the context of each word in relation to others. This is crucial because the meaning of a word can change depending on its context.\n",
    "The transformer blocks modify the embeddings, which are now called EMB_OUT1, EMB_OUT2, and EMB_OUT3.\n",
    "\n",
    "4. **Generation Head:**\n",
    "\n",
    "After processing through the transformer blocks, the embeddings are ready to be transformed back into tokens. The generation head takes these embeddings and predicts the most likely next word or sequence of words.\n",
    "The predictions are called logits, represented as LOGITS1, LOGITS2, and LOGITS3. These logits are then converted back to readable text.\n",
    "\n",
    "5. **Logits (BxTxV):**\n",
    "\n",
    "Logits are the raw predictions made by the model for each word in the vocabulary (V = 50257, the total number of possible tokens). The model uses these logits to determine which words are most likely to come next in the sequence."
   ]
  },
  {
   "cell_type": "markdown",
   "id": "a94dc102-c2fb-4044-8bcc-dd8ba2dfaa7d",
   "metadata": {},
   "source": [
    "### The magic of context"
   ]
  },
  {
   "cell_type": "markdown",
   "id": "a1b6e49a-c37d-45a6-a15a-8d68e0ede4ac",
   "metadata": {},
   "source": [
    "One of the most impressive aspects of transformers is their ability to understand context. For example, the word \"reading\" can mean different things in different sentences. In \"I love reading books,\" it refers to the act of reading. In \"Reading is a city in England,\" it refers to a place. Transformers can differentiate these meanings based on the surrounding words, making them incredibly powerful for natural language processing."
   ]
  },
  {
   "cell_type": "markdown",
   "id": "af104bcd-11aa-49e2-859c-fc08476041d7",
   "metadata": {},
   "source": [
    "### GPT-2 Model definition"
   ]
  },
  {
   "cell_type": "markdown",
   "id": "03e08608-ebef-4ee4-b272-c6a298e14ce4",
   "metadata": {},
   "source": [
    "Let's create a GPT-2 decoder only model from scratch. We will then train on wikipedia articles to learn about the language structure. As stated above, we're not changing the definition here but just the number of layers"
   ]
  },
  {
   "cell_type": "code",
   "execution_count": 4,
   "id": "79fb16a5-7cdc-463d-9b2f-84af498070ae",
   "metadata": {},
   "outputs": [],
   "source": [
    "# Create a custom GPT-2 configuration\n",
    "custom_config = GPT2Config(\n",
    "    vocab_size=50257,\n",
    "    n_positions=128,\n",
    "    n_ctx=256,\n",
    "    n_embd=768,\n",
    "    n_layer=4,      # Number of transformer layers\n",
    "    n_head=4,\n",
    ")\n",
    "\n",
    "# Initialize the custom GPT-2 model with the custom configuration\n",
    "model = AutoModelForCausalLM.from_config(custom_config)"
   ]
  },
  {
   "cell_type": "markdown",
   "id": "e544f999-c1f4-4067-befe-5f13f38687db",
   "metadata": {},
   "source": [
    "### Training"
   ]
  },
  {
   "cell_type": "markdown",
   "id": "a24e85b2-f382-4087-a370-6f34988a0592",
   "metadata": {},
   "source": [
    "Initialize the trainer for desired number of epochs and batch size. We can also monitor the training using wandb ( not shown here but look at the appendex to know more about callbacks )."
   ]
  },
  {
   "cell_type": "code",
   "execution_count": 5,
   "id": "1cce28ef-9436-40e9-89b2-f1c6f503ad8d",
   "metadata": {},
   "outputs": [],
   "source": [
    "training_args = TrainingArguments(\n",
    "    output_dir='./results',\n",
    "    overwrite_output_dir=True,\n",
    "    num_train_epochs=3,\n",
    "    per_device_train_batch_size=128,\n",
    "    per_device_eval_batch_size=128,\n",
    "    warmup_steps=500,\n",
    "    weight_decay=0.01,\n",
    "    logging_dir='./logs',\n",
    ")"
   ]
  },
  {
   "cell_type": "code",
   "execution_count": 6,
   "id": "daab2ff6-17a7-4b4c-b25c-7e0bac05da0a",
   "metadata": {},
   "outputs": [
    {
     "data": {
      "text/plain": [
       "DatasetDict({\n",
       "    test: Dataset({\n",
       "        features: ['input_ids', 'attention_mask'],\n",
       "        num_rows: 4358\n",
       "    })\n",
       "    train: Dataset({\n",
       "        features: ['input_ids', 'attention_mask'],\n",
       "        num_rows: 36718\n",
       "    })\n",
       "    validation: Dataset({\n",
       "        features: ['input_ids', 'attention_mask'],\n",
       "        num_rows: 3760\n",
       "    })\n",
       "})"
      ]
     },
     "execution_count": 6,
     "metadata": {},
     "output_type": "execute_result"
    }
   ],
   "source": [
    "tokenized_datasets"
   ]
  },
  {
   "cell_type": "code",
   "execution_count": 7,
   "id": "ce260166-b93b-4bd1-91ac-23c42ba0b5bc",
   "metadata": {},
   "outputs": [],
   "source": [
    "trainer = Trainer(\n",
    "    model=model,\n",
    "    args=training_args,\n",
    "    train_dataset=tokenized_datasets['train'],\n",
    "    eval_dataset=tokenized_datasets['validation'],\n",
    "    tokenizer=tokenizer,\n",
    "    data_collator=DataCollatorForLanguageModeling(mlm=False, tokenizer=tokenizer)\n",
    ")"
   ]
  },
  {
   "cell_type": "code",
   "execution_count": 8,
   "id": "42db32dc-ed36-417f-a758-e3a3b04395d1",
   "metadata": {},
   "outputs": [
    {
     "data": {
      "text/html": [
       "\n",
       "    <div>\n",
       "      \n",
       "      <progress value='861' max='861' style='width:300px; height:20px; vertical-align: middle;'></progress>\n",
       "      [861/861 10:16, Epoch 3/3]\n",
       "    </div>\n",
       "    <table border=\"1\" class=\"dataframe\">\n",
       "  <thead>\n",
       " <tr style=\"text-align: left;\">\n",
       "      <th>Step</th>\n",
       "      <th>Training Loss</th>\n",
       "    </tr>\n",
       "  </thead>\n",
       "  <tbody>\n",
       "    <tr>\n",
       "      <td>500</td>\n",
       "      <td>7.790100</td>\n",
       "    </tr>\n",
       "  </tbody>\n",
       "</table><p>"
      ],
      "text/plain": [
       "<IPython.core.display.HTML object>"
      ]
     },
     "metadata": {},
     "output_type": "display_data"
    },
    {
     "data": {
      "text/plain": [
       "TrainOutput(global_step=861, training_loss=7.151387036331301, metrics={'train_runtime': 617.1376, 'train_samples_per_second': 178.492, 'train_steps_per_second': 1.395, 'total_flos': 2398616836374528.0, 'train_loss': 7.151387036331301, 'epoch': 3.0})"
      ]
     },
     "execution_count": 8,
     "metadata": {},
     "output_type": "execute_result"
    }
   ],
   "source": [
    "trainer.train()"
   ]
  },
  {
   "cell_type": "code",
   "execution_count": 27,
   "id": "886493d6-5194-4e16-91d0-0b91eacd9b04",
   "metadata": {},
   "outputs": [
    {
     "name": "stderr",
     "output_type": "stream",
     "text": [
      "Setting `pad_token_id` to `eos_token_id`:50256 for open-end generation.\n"
     ]
    },
    {
     "name": "stdout",
     "output_type": "stream",
     "text": [
      "[\"the cat's series's first time, he was released in the first time. He was\"]\n"
     ]
    }
   ],
   "source": [
    "inputs = tokenizer(\"the cat\", return_tensors=\"pt\")\n",
    "outputs = model.generate(**inputs, num_beams=4, do_sample=True)\n",
    "print(tokenizer.batch_decode(outputs,skip_special_tokens=True))"
   ]
  },
  {
   "cell_type": "code",
   "execution_count": 9,
   "id": "9faa20d4-8ce5-4ab4-8b99-efb382b7f1fb",
   "metadata": {},
   "outputs": [
    {
     "data": {
      "text/html": [
       "\n",
       "    <div>\n",
       "      \n",
       "      <progress value='30' max='30' style='width:300px; height:20px; vertical-align: middle;'></progress>\n",
       "      [30/30 00:04]\n",
       "    </div>\n",
       "    "
      ],
      "text/plain": [
       "<IPython.core.display.HTML object>"
      ]
     },
     "metadata": {},
     "output_type": "display_data"
    }
   ],
   "source": [
    "eval_f = trainer.evaluate()"
   ]
  },
  {
   "cell_type": "code",
   "execution_count": 10,
   "id": "f70eff5e-57bd-48ae-9e7e-f33d982f0ed2",
   "metadata": {},
   "outputs": [],
   "source": [
    "perplexity_f = math.exp(eval_f['eval_loss'])"
   ]
  },
  {
   "cell_type": "code",
   "execution_count": 11,
   "id": "e2907c09-ab44-41fa-b0a0-c0c110679370",
   "metadata": {},
   "outputs": [
    {
     "data": {
      "text/plain": [
       "514.7259899778954"
      ]
     },
     "execution_count": 11,
     "metadata": {},
     "output_type": "execute_result"
    }
   ],
   "source": [
    "perplexity_f"
   ]
  },
  {
   "cell_type": "code",
   "execution_count": null,
   "id": "f01896d1-7260-4402-87ad-5e416bc7b75c",
   "metadata": {},
   "outputs": [],
   "source": []
  }
 ],
 "metadata": {
  "kernelspec": {
   "display_name": "Python 3 (ipykernel)",
   "language": "python",
   "name": "python3"
  },
  "language_info": {
   "codemirror_mode": {
    "name": "ipython",
    "version": 3
   },
   "file_extension": ".py",
   "mimetype": "text/x-python",
   "name": "python",
   "nbconvert_exporter": "python",
   "pygments_lexer": "ipython3",
   "version": "3.12.4"
  }
 },
 "nbformat": 4,
 "nbformat_minor": 5
}
