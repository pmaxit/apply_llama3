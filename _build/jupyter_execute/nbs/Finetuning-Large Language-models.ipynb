{
 "cells": [
  {
   "cell_type": "code",
   "execution_count": 1,
   "id": "7e447c18-2088-4656-8abf-01a8c3a36bae",
   "metadata": {},
   "outputs": [],
   "source": [
    "%load_ext autoreload\n",
    "%autoreload 2"
   ]
  },
  {
   "cell_type": "markdown",
   "id": "d1f4069c-f56b-4d88-a326-24a33931107a",
   "metadata": {},
   "source": [
    "# Finetuning large language models"
   ]
  },
  {
   "cell_type": "code",
   "execution_count": 2,
   "id": "980dfbe1-e35c-41dc-8930-22c59d3b5d9f",
   "metadata": {},
   "outputs": [],
   "source": [
    "#!pip install langchain langchain-community transformers bitsandbytes accelerate langchain-openai langchain evaluate langchain-together"
   ]
  },
  {
   "cell_type": "code",
   "execution_count": 16,
   "id": "30e38114-66b8-4017-bb50-c78a0d9507f9",
   "metadata": {},
   "outputs": [
    {
     "data": {
      "text/plain": [
       "True"
      ]
     },
     "execution_count": 16,
     "metadata": {},
     "output_type": "execute_result"
    }
   ],
   "source": [
    "#importing libraries\n",
    "\n",
    "import dotenv, os\n",
    "import pandas as pd\n",
    "from langchain_core.prompts import ChatPromptTemplate\n",
    "from langchain_core.pydantic_v1 import BaseModel, Field\n",
    "from langchain_together import ChatTogether\n",
    "from langchain_openai import ChatOpenAI\n",
    "from enum import Enum\n",
    "from langchain.output_parsers.enum import EnumOutputParser\n",
    "from utils import debug_llm, extract_json\n",
    "\n",
    "\n",
    "\n",
    "dotenv.load_dotenv()"
   ]
  },
  {
   "cell_type": "markdown",
   "id": "268e6529-460b-4c40-8ea7-ac03db7c99bb",
   "metadata": {},
   "source": [
    "In the previous chapter, we explored the inner workings of large language models and how they can be leveraged for various tasks, such as text generation and sequence classification, through effective prompting and zero-shot capabilities. We also delved into the vast array of pre-trained models available, courtesy of the vibrant community.\n",
    "\n",
    "However, will these pre-trained models exhibit remarkable versatility, their general purpose training may not always be optimized for specific tasks or domains. Fine-tuning emerges as a crucial techique to adapt and refine a language model's understanding to the nuances of a particular dataset or a task\n",
    "\n",
    "Consider the field of medical research, where a language model pre-trained solely on general web text may struggle to perform effectively out-of-the-box. By fine-tuning the model on a corpus of medical literature, its ability to generate relevant medical text or assist in information extraction from healthcare documents can be significantly enhanced.\n",
    "\n",
    "Conversational models present another compelling use case. As discussed earlier, large pre-trained models are primarily trained to predict the next token, which may not seamlessly translate to engaging, conversational interactions. By fine-tuning these models on datasets containing everyday conversations and informal language structures, we can adapt their outputs to emulate the natural flow and nuances of interfaces like ChatGPT."
   ]
  },
  {
   "cell_type": "markdown",
   "id": "90cf6c46-fccf-467b-929f-099e3f2ab754",
   "metadata": {},
   "source": [
    "The primary objective of this chapter is to establish a solid foundation in fine-tuning large language models (LLMs). Consequently, we will delve into the following key areas:\n",
    "\n",
    "- Classifying the topic of a text using a fine-tuned encoder model\n",
    "- Generating text in a particular style using a fine-tuned decoder model\n",
    "- Solving multiple tasks with a single model via instruction fine-tuning\n",
    "- Parameter-efficient fine-tuning techniques that enable training on smaller GPUs\n",
    "- Techniques for reducing computational requirements during model inference"
   ]
  },
  {
   "cell_type": "markdown",
   "id": "a2c46e1f-8488-414a-93ea-a1fbd4977c4e",
   "metadata": {},
   "source": [
    "Through this comprehensive exploration, you will gain insights into tailoring language models to excel in specific tasks and domains, unleashing their true potential for a wide range of applications."
   ]
  },
  {
   "cell_type": "markdown",
   "id": "a2096b4b-89b4-44cb-9cab-26faedbb2d72",
   "metadata": {},
   "source": [
    "## Text Classification"
   ]
  },
  {
   "cell_type": "markdown",
   "id": "b8d5ff98-bdf2-4351-a8c0-5b14c35f33d8",
   "metadata": {},
   "source": [
    "As we discussed in earlier chapters, LLMs are generally used for generative tasks where task is to predict the next token. Other NLP tasks such as text classification, named entity recognition might not be represented easily with the default objective. Here we will see an example of using LLMs for text classification and then further finetuning to improve the metrics. "
   ]
  },
  {
   "cell_type": "markdown",
   "id": "2b6324b1-b926-4e13-9c1d-1e396adcd266",
   "metadata": {},
   "source": [
    "### Identify a dataset"
   ]
  },
  {
   "cell_type": "markdown",
   "id": "8c4af22a-579d-4181-acc7-75217c4d8ff5",
   "metadata": {
    "editable": true,
    "slideshow": {
     "slide_type": ""
    },
    "tags": []
   },
   "source": [
    "Let's pick publicly available dataset to demonstrate the technique. Here we'll use AG news dataset, a well known non-commercial dataset used for benchmarking text classification models and researching data mining, information retrieval and data streaming."
   ]
  },
  {
   "cell_type": "markdown",
   "id": "d65ad99c-bfc3-47b8-8819-04af37a400f6",
   "metadata": {
    "editable": true,
    "slideshow": {
     "slide_type": ""
    },
    "tags": []
   },
   "source": [
    "Here, we will explore the dataset to know about the text and labels. The dataset provides 120,000 training examples, more than enough data to fine-tune a model with 4 classification labels. Fine-tuning requires very little data compared to pre-training a model and just using few thousand examples should enough to get a good baseline model."
   ]
  },
  {
   "cell_type": "code",
   "execution_count": 4,
   "id": "9f6777d4-088d-4930-8bce-38152d9da44a",
   "metadata": {
    "editable": true,
    "slideshow": {
     "slide_type": ""
    },
    "tags": [
     "hide-input"
    ]
   },
   "outputs": [],
   "source": [
    "from datasets import load_dataset\n",
    "import evaluate\n",
    "\n",
    "accuracy_metric = evaluate.load(\"accuracy\")\n",
    "raw_datasets = load_dataset(\"ag_news\")"
   ]
  },
  {
   "cell_type": "markdown",
   "id": "57762160-3615-4f6b-8a6f-a890b3d52c21",
   "metadata": {},
   "source": [
    "Let's print the first sample from the training dataset. Output shows each sample is a dictionary with two keys: `text` and `label` . The `text` key contains the actual text of the news article, while the `label` key contains an integer representing the category of the article. In this particular example, article is labeled with integer `2`, which corresponds to `business` category according to the dataset's label encoding scheme"
   ]
  },
  {
   "cell_type": "code",
   "execution_count": 5,
   "id": "6af0ee72-3f4a-48bd-a9b9-88e2c033b0ea",
   "metadata": {},
   "outputs": [
    {
     "data": {
      "text/plain": [
       "{'text': \"Wall St. Bears Claw Back Into the Black (Reuters) Reuters - Short-sellers, Wall Street's dwindling\\\\band of ultra-cynics, are seeing green again.\",\n",
       " 'label': 2}"
      ]
     },
     "execution_count": 5,
     "metadata": {},
     "output_type": "execute_result"
    }
   ],
   "source": [
    "raw_datasets['train'][0]"
   ]
  },
  {
   "cell_type": "code",
   "execution_count": 6,
   "id": "2a2e2d87-0afe-4db9-a918-34f8a3d0f585",
   "metadata": {},
   "outputs": [
    {
     "data": {
      "text/plain": [
       "['World', 'Sports', 'Business', 'Sci/Tech']"
      ]
     },
     "execution_count": 6,
     "metadata": {},
     "output_type": "execute_result"
    }
   ],
   "source": [
    "labels = raw_datasets['train'].features['label'].names\n",
    "labels"
   ]
  },
  {
   "cell_type": "markdown",
   "id": "60c0fbb9-a60b-44cb-ab5a-195f9344ec6a",
   "metadata": {},
   "source": [
    "Before the era of LLMs, we used RNNs or BERT-style models to capture the meaning of a sentence and then fine-tuned them for downstream tasks. Now, let's explore how to achieve similar results using LLMs.\n",
    "\n",
    "But supervised learning isn't the only option for text classification with LLMs. Unsupervised learning through prompt engineering has emerged as a viable alternative. How well do LLMs perform text classification when guided only by a natural language prompt? Can this approach compete with the results from supervised learning? We'll explore these questions and more in the next section."
   ]
  },
  {
   "cell_type": "markdown",
   "id": "594bbe6c-d3b1-4c2f-ba25-368f308bc155",
   "metadata": {},
   "source": [
    "## Prompt Engineering"
   ]
  },
  {
   "cell_type": "markdown",
   "id": "dc7e9d39-7bc0-456b-abc0-a5d8aeec5c36",
   "metadata": {},
   "source": [
    "Let's look at zero-shot capability of large language models (LLMs) where they can perform a task without explicit training data for that specific task.\n",
    "\n",
    "We first need to create a dictionary `id_to_label` that maps the lowercase label names to their corresponding integer labels.\n",
    "\n",
    "Finally, we modify the dictionary `id_to_label` to expand the `sci/tech` label. This is useful since LLM might be trained with full words rather than abbrevations. We should try to be close to the initial vocabulary."
   ]
  },
  {
   "cell_type": "code",
   "execution_count": 7,
   "id": "76ecb268-5e06-4916-8ce3-ec1af6b63283",
   "metadata": {},
   "outputs": [],
   "source": [
    "id_to_label = {l.lower():i for i,l in enumerate(labels)}\n",
    "id_to_label['science/technology']=3 #expanding one of the label"
   ]
  },
  {
   "cell_type": "code",
   "execution_count": 8,
   "id": "b515028c-458b-438a-8821-a6165ea48feb",
   "metadata": {},
   "outputs": [
    {
     "data": {
      "text/plain": [
       "{'world': 0,\n",
       " 'sports': 1,\n",
       " 'business': 2,\n",
       " 'sci/tech': 3,\n",
       " 'science/technology': 3}"
      ]
     },
     "execution_count": 8,
     "metadata": {},
     "output_type": "execute_result"
    }
   ],
   "source": [
    "id_to_label"
   ]
  },
  {
   "cell_type": "markdown",
   "id": "9b060b35-f9a2-400f-90b3-79db62183750",
   "metadata": {},
   "source": [
    "We now need to set the prompt engineering pipeline for text classification using an LLM. Here we'll use langchain to add prompts to the text. \n",
    "\n",
    "We define a `ChatPromptTemplate` and `tagging_prompt` tht will be used to construct the prompt for the LLM. The prompt instructs the LLM to extract the news label from the given article based on the `Classification` . We'll try to batch multiple sentences together to save up the computation cost.\n",
    "\n"
   ]
  },
  {
   "cell_type": "code",
   "execution_count": 9,
   "id": "15d04c61-0f67-4435-8f40-8ee2f34aed1d",
   "metadata": {},
   "outputs": [
    {
     "name": "stderr",
     "output_type": "stream",
     "text": [
      "/tmp/ipykernel_226512/1917432805.py:4: DeprecationWarning: DataFrameGroupBy.apply operated on the grouping columns. This behavior is deprecated, and in a future version of pandas the grouping columns will be excluded from the operation. Either pass `include_groups=False` to exclude the groupings or explicitly select the grouping columns after groupby to silence this warning.\n",
      "  samples_df = dpdf.groupby('label').apply(lambda x: x.sample(10)).reset_index(drop=True)\n"
     ]
    },
    {
     "data": {
      "application/vnd.jupyter.widget-view+json": {
       "model_id": "74aeecb251a043d3ba85323325ac5e2e",
       "version_major": 2,
       "version_minor": 0
      },
      "text/plain": [
       "Map:   0%|          | 0/40 [00:00<?, ? examples/s]"
      ]
     },
     "metadata": {},
     "output_type": "display_data"
    }
   ],
   "source": [
    "from datasets import Dataset, DatasetDict\n",
    "\n",
    "dpdf = raw_datasets['train'].to_pandas()\n",
    "samples_df = dpdf.groupby('label').apply(lambda x: x.sample(10)).reset_index(drop=True)\n",
    "\n",
    "def get_label(example):\n",
    "    example['str_label']=labels[example['label']]\n",
    "    return example\n",
    "\n",
    "samples = (Dataset.from_pandas(samples_df)\n",
    "            .map(get_label))"
   ]
  },
  {
   "cell_type": "markdown",
   "id": "0cf14cde-8cab-4471-887c-2966013c4a41",
   "metadata": {},
   "source": [
    "Here's our first example"
   ]
  },
  {
   "cell_type": "code",
   "execution_count": 10,
   "id": "75a27f94-f930-46e5-b230-164d25c475c7",
   "metadata": {},
   "outputs": [
    {
     "data": {
      "text/plain": [
       "text         India Test Fires Nuclear-Capable Missile NEW D...\n",
       "label                                                        0\n",
       "str_label                                                World\n",
       "dtype: object"
      ]
     },
     "execution_count": 10,
     "metadata": {},
     "output_type": "execute_result"
    }
   ],
   "source": [
    "example = pd.Series(samples[0])\n",
    "example"
   ]
  },
  {
   "cell_type": "markdown",
   "id": "d63880a0-599b-48b3-97c2-185ab21d445f",
   "metadata": {},
   "source": [
    "Next, we define a `classification` class that inherits from Pydantic `BaseModel`. This class represents the structured output format that the LLM will generate. It has a single field `label` of type `str`, which is an enumeration of the four label categories: \n",
    "\n",
    "- World\n",
    "- sports\n",
    "- business\n",
    "- science/technology"
   ]
  },
  {
   "cell_type": "code",
   "execution_count": 11,
   "id": "15f7d53f-b37e-4a7b-8f0f-2a7b2f6cb240",
   "metadata": {},
   "outputs": [],
   "source": [
    "#tagging_prompt.format(inputs=enumerate(inputs), examples=zip(samples['text'],samples['str_label']), count=len(inputs))"
   ]
  },
  {
   "cell_type": "code",
   "execution_count": 12,
   "id": "319c5005-ebbf-4946-bbf0-3b0e1ee3293c",
   "metadata": {},
   "outputs": [],
   "source": [
    "from typing import List\n",
    "from langchain.output_parsers import PydanticOutputParser\n",
    "\n",
    "class Classification(BaseModel):\n",
    "    label:str = Field(enum=['world','sports','business','science/technology'], description='Label for the article') # Note: Using the expanded label of sci/tech\n"
   ]
  },
  {
   "cell_type": "markdown",
   "id": "77eb3fb3-84c2-4c88-a046-a51ee612c406",
   "metadata": {},
   "source": [
    "Our approach involves utilizing public APIs to obtain labels for articles. To optimize the process, we'll bundle multiple articles into a single request. This way, instead of receiving one result per request, we'll get a list of results in a single API call. To streamline the conversion process, we'll define an additional class that accommodates the list of classification labels returned by the Large Language Model (LLM)."
   ]
  },
  {
   "cell_type": "code",
   "execution_count": 13,
   "id": "315d2a25-a6ed-43b2-8a9d-d87abf455e5c",
   "metadata": {},
   "outputs": [],
   "source": [
    "class Results(BaseModel):\n",
    "    results:List[Classification]=[]"
   ]
  },
  {
   "cell_type": "markdown",
   "id": "034645b5-ee6f-4f41-937f-a669e88de5af",
   "metadata": {},
   "source": [
    "We initialize the Large Language Model (LLM) using the ChatTogether class from the `langchain_together` library. In this example, we utilize the LLAMA 3 model from the Together API. If you have any doubts about setting up the request, please refer to the first chapter. We set the temperature parameter to 0 to ensure that the LLM generates deterministic outputs. Furthermore, we employ the with_structured_output method to instruct the LLM to generate outputs in the format specified by the Classification class"
   ]
  },
  {
   "cell_type": "code",
   "execution_count": 14,
   "id": "99cef757-81e7-4956-adec-0793aa8eddf7",
   "metadata": {},
   "outputs": [],
   "source": [
    "\n",
    "parser = PydanticOutputParser(pydantic_object=Results)"
   ]
  },
  {
   "cell_type": "code",
   "execution_count": 17,
   "id": "ca0e17f9-6cad-4bcc-a023-42258c3432f9",
   "metadata": {},
   "outputs": [],
   "source": [
    "# LLM\n",
    "#llm = ChatOpenAI(temperature=0, model=\"gpt-4-turbo\")\n",
    "\n",
    "tagging_prompt = ChatPromptTemplate.from_template(\n",
    "\"\"\"\n",
    "##Instruction:\n",
    "Extract the News Label for below {{count}} articles. \n",
    "\n",
    "Make sure you give output to all the articles in the same order and use the labels from the following list:\n",
    "1. world\n",
    "2. sports\n",
    "3. business\n",
    "4. science/technology\n",
    "\n",
    "Use article number as the reference and provide article number in the responses along with their labels. \n",
    "\n",
    "Make sure to only use above labels and do not add anything extra.\n",
    "\n",
    "## Output format\n",
    "{{formatting_instructions}}\n",
    "\n",
    "Please note output should only be returned in JSON format. Reject all the other formats. \n",
    "##Input:\n",
    "            {%for i,c  in inputs %}\n",
    "            Article: {{i}}\n",
    "            Text: {{c}}\n",
    "            \n",
    "            {% endfor %}\n",
    "\n",
    "\n",
    "\"\"\",template_format='jinja2'\n",
    ")\n",
    "\n",
    "llm = ChatTogether(\n",
    "    model=\"meta-llama/Llama-3-70b-chat-hf\",\n",
    "    max_tokens=1024,\n",
    "    temperature=0.1\n",
    ")\n",
    "\n",
    "tagging_chain = tagging_prompt  | llm | parser"
   ]
  },
  {
   "cell_type": "markdown",
   "id": "be7b241d-c3d2-468e-af17-036ac2130713",
   "metadata": {},
   "source": [
    "This creates a langchain object which parses the input string in above template, pass it to LLM , result is the passed to Parser which knows how to extract json from the text and convert it into a `Pydantic` class. "
   ]
  },
  {
   "cell_type": "markdown",
   "id": "98985671-ba1f-4fbf-8586-e6b4d309b391",
   "metadata": {},
   "source": [
    "## Invoking the LLM for text classification"
   ]
  },
  {
   "cell_type": "markdown",
   "id": "bd90bcfb-5e23-431a-8802-b0b87e1361f3",
   "metadata": {},
   "source": [
    "Here, we invoke the LLM for text classification using `tagging_chain` we created earlier. First, we prepare 5 random articles for which we want to get the labels. It is the passed to LLM with formatting instructions. Remember, we need output in json format so that it can be automatically parsed by `Pydantic`. "
   ]
  },
  {
   "cell_type": "code",
   "execution_count": 18,
   "id": "84682815-b58c-4c7e-9446-438cee12d76d",
   "metadata": {},
   "outputs": [],
   "source": [
    "inputs = samples['text'][:5]\n",
    "results = tagging_chain.invoke({\"inputs\": enumerate(inputs), \n",
    "                      'examples':zip(samples['text'],samples['str_label']), \n",
    "                      'count':len(inputs),\n",
    "                     'formatting_instructions': parser.get_format_instructions()})"
   ]
  },
  {
   "cell_type": "markdown",
   "id": "e85ade09-bbbc-4953-b3a4-210dec43e37f",
   "metadata": {},
   "source": [
    "Here we obtain the outcomes from the LLM call. Upon examination, it's evident that the length of results matches that of inputs in this instance. It's important to remember that LLMs are generative engines, so there's no guarantee that labels will be provided for all inputs. We are prepared to accept this risk in our example. In a production environment, we would prefer to process these examples individually to ensure that each article receives a label. During post-processing, we will filter out any articles that have empty labels."
   ]
  },
  {
   "cell_type": "code",
   "execution_count": 19,
   "id": "e4cb4af3-f543-4f3e-b7c4-e4069d09cd84",
   "metadata": {},
   "outputs": [
    {
     "data": {
      "text/plain": [
       "Results(results=[Classification(label='world'), Classification(label='world'), Classification(label='world'), Classification(label='world'), Classification(label='world')])"
      ]
     },
     "execution_count": 19,
     "metadata": {},
     "output_type": "execute_result"
    }
   ],
   "source": [
    "results"
   ]
  },
  {
   "cell_type": "code",
   "execution_count": 20,
   "id": "447c86b5-d8ce-40ba-9a35-96d1f7a5ba5c",
   "metadata": {},
   "outputs": [
    {
     "name": "stdout",
     "output_type": "stream",
     "text": [
      "length of results  5\n"
     ]
    }
   ],
   "source": [
    "print('length of results ', len(results.results))"
   ]
  },
  {
   "cell_type": "markdown",
   "id": "472bb559-476a-48e7-9e13-a4eeffedbabf",
   "metadata": {},
   "source": [
    "In the example above, we correctly found the labels for 5 random articles without training! Isn't it amazing. We get the output right out of the box."
   ]
  },
  {
   "cell_type": "markdown",
   "id": "7a40bfb2-66f3-4e86-a7d1-276c6a93d576",
   "metadata": {},
   "source": [
    "We can then repeat this process to all the test samples. Below, we call `tagging_chain.invoke` for all the examples and save output as one of the feature in huggingfaace dataset. Feature is stored as `response` "
   ]
  },
  {
   "cell_type": "code",
   "execution_count": 21,
   "id": "d559973d-4989-4ed2-bdf7-8219e070bc79",
   "metadata": {},
   "outputs": [
    {
     "name": "stderr",
     "output_type": "stream",
     "text": [
      "Parameter 'function'=<function process_text at 0x7f388b5b3b50> of the transform datasets.arrow_dataset.Dataset._map_single couldn't be hashed properly, a random hash was used instead. Make sure your transforms and parameters are serializable with pickle or dill for the dataset fingerprinting and caching to work. If you reuse this transform, the caching mechanism will consider it to be different from the previous calls and recompute everything. This warning is only showed once. Subsequent hashing failures won't be showed.\n"
     ]
    },
    {
     "data": {
      "application/vnd.jupyter.widget-view+json": {
       "model_id": "b587d3b35a6048aebcd8dbbcd2617530",
       "version_major": 2,
       "version_minor": 0
      },
      "text/plain": [
       "Map:   0%|          | 0/300 [00:00<?, ? examples/s]"
      ]
     },
     "metadata": {},
     "output_type": "display_data"
    }
   ],
   "source": [
    "def process_text(examples):\n",
    "    inputs = examples['text']\n",
    "    out = tagging_chain.invoke({'inputs':enumerate(inputs),'examples': zip(samples['text'], samples['str_label']), \n",
    "                                'count':len(inputs), 'formatting_instructions': parser.get_format_instructions()})\n",
    "\n",
    "    \n",
    "    if len(out.results) != len(inputs):\n",
    "        examples['response']=['empty']*len(inputs)\n",
    "    else:\n",
    "        examples['response'] = [r.label for r in out.results[:len(inputs)]]\n",
    "    return examples\n",
    "\n",
    "sample = raw_datasets['test'].shuffle().select(range(300))\n",
    "dataset_processed = sample.map(process_text,num_proc=1,batched=True, batch_size=10)"
   ]
  },
  {
   "cell_type": "code",
   "execution_count": 34,
   "id": "1a28b378-e0fb-4ff0-9850-cd81eb1d346f",
   "metadata": {},
   "outputs": [
    {
     "data": {
      "text/plain": [
       "Dataset({\n",
       "    features: ['text', 'label', 'response'],\n",
       "    num_rows: 300\n",
       "})"
      ]
     },
     "execution_count": 34,
     "metadata": {},
     "output_type": "execute_result"
    }
   ],
   "source": [
    "dataset_processed"
   ]
  },
  {
   "cell_type": "code",
   "execution_count": 35,
   "id": "0fd30467-5c6d-46a7-b4ad-fbf67a895bfe",
   "metadata": {},
   "outputs": [
    {
     "data": {
      "application/vnd.jupyter.widget-view+json": {
       "model_id": "6ae97a35e5c84b9384bbbfaaf69a1265",
       "version_major": 2,
       "version_minor": 0
      },
      "text/plain": [
       "Saving the dataset (0/1 shards):   0%|          | 0/300 [00:00<?, ? examples/s]"
      ]
     },
     "metadata": {},
     "output_type": "display_data"
    }
   ],
   "source": [
    "dataset_processed.save_to_disk('data/processed.hf')"
   ]
  },
  {
   "cell_type": "markdown",
   "id": "08fafc5d-6f17-4ab0-b939-ce601e6bd796",
   "metadata": {},
   "source": [
    "### Evaluation"
   ]
  },
  {
   "cell_type": "markdown",
   "id": "78ac1e64-3a85-43b0-b1ff-dc97fbf9d339",
   "metadata": {},
   "source": [
    "Let's evaluate the model with accuracy metrics. This will show how many of the responses are correct."
   ]
  },
  {
   "cell_type": "code",
   "execution_count": 36,
   "id": "2961995b-47c8-47bb-a0cd-bd14d80941d4",
   "metadata": {},
   "outputs": [
    {
     "name": "stdout",
     "output_type": "stream",
     "text": [
      "accuracy 0.85\n"
     ]
    }
   ],
   "source": [
    "references = [r['label'] for r in dataset_processed if r['response'] != 'empty']\n",
    "predictions = [id_to_label[r['response']] for r in dataset_processed if r['response'] != 'empty']\n",
    "accuracy = accuracy_metric.compute(references=references,predictions=predictions)\n",
    "print('accuracy {}'.format(accuracy['accuracy']))"
   ]
  },
  {
   "cell_type": "markdown",
   "id": "f0e2fa9a-9093-4d2e-8d19-02e54d2f74e9",
   "metadata": {},
   "source": [
    "Total accuracy found is 85%. \n",
    "\n",
    "Let's try to improve the accuracy through further prompt engineering"
   ]
  },
  {
   "cell_type": "markdown",
   "id": "17786c68-49cf-453e-b3ab-7ec61867598c",
   "metadata": {},
   "source": [
    "## Few shot prompt engineering"
   ]
  },
  {
   "cell_type": "markdown",
   "id": "d7a2c78a-0c0f-4ce6-bc8a-3f560b144ba7",
   "metadata": {},
   "source": [
    "Above we worked on text classification without providing any help to the model. Few shot engineering refers to the step where we provide certain examples to the model to help in the response. In the prompt below, we provde placeholder for examples. These are extracted from `train` split of dataset to make sure we don't cheat with our test dataset. We group records by labels and extract 10 examples from each label ( world, sci/tech, sports, business ]. Let's oberve what effect it can have on the accuracy"
   ]
  },
  {
   "cell_type": "code",
   "execution_count": 37,
   "id": "ca420605-3d7e-450c-9727-27013ff21f7e",
   "metadata": {},
   "outputs": [],
   "source": [
    "# LLM\n",
    "#llm = ChatOpenAI(temperature=0, model=\"gpt-4-turbo\")\n",
    "\n",
    "tagging_prompt = ChatPromptTemplate.from_template(\n",
    "\"\"\"\n",
    "##Instruction:\n",
    "Extract the News Label for below {{count}} articles. \n",
    "\n",
    "Make sure you give output to all the articles in the same order and use the labels from the following list:\n",
    "1. world\n",
    "2. sports\n",
    "3. business\n",
    "4. science/technology\n",
    "\n",
    "Use article number as the reference and provide article number in the responses along with their labels. \n",
    "\n",
    "Make sure to only use above labels and do not add anything extra.\n",
    "## Here are some examples\n",
    "{% for  example, label in examples %}\n",
    "Text: {{example}}\n",
    "label: {{label}}\n",
    "\n",
    "{% endfor %}\n",
    "## Output format\n",
    "{{formatting_instructions}}\n",
    "\n",
    "Please note output should only be returned in JSON format. Reject all the other formats. \n",
    "##Input:\n",
    "            {%for i,c  in inputs %}\n",
    "            Article: {{i}}\n",
    "            Text: {{c}}\n",
    "            \n",
    "            {% endfor %}\n",
    "\n",
    "\n",
    "\"\"\",template_format='jinja2'\n",
    ")\n",
    "\n",
    "llm = ChatTogether(\n",
    "    model=\"meta-llama/Llama-3-70b-chat-hf\",\n",
    "    max_tokens=1024,\n",
    "    temperature=0.1\n",
    ")\n",
    "\n",
    "tagging_chain = tagging_prompt  | llm | parser"
   ]
  },
  {
   "cell_type": "code",
   "execution_count": 38,
   "id": "8f08dba2-cf3b-49c1-9773-c3e271133bfd",
   "metadata": {},
   "outputs": [],
   "source": [
    "# inputs = samples['text'][:10]\n",
    "# results = tagging_chain.invoke({\"inputs\": enumerate(inputs), \n",
    "#                       'examples':zip(samples['text'],samples['str_label']), \n",
    "#                       'count':len(inputs),\n",
    "#                      'formatting_instructions': parser.get_format_instructions()})"
   ]
  },
  {
   "cell_type": "code",
   "execution_count": 39,
   "id": "37dedb60-c9e0-4b99-9dde-650c0940a7ae",
   "metadata": {},
   "outputs": [
    {
     "data": {
      "application/vnd.jupyter.widget-view+json": {
       "model_id": "ae210936d86e405c990e5bca120369e4",
       "version_major": 2,
       "version_minor": 0
      },
      "text/plain": [
       "Map:   0%|          | 0/100 [00:00<?, ? examples/s]"
      ]
     },
     "metadata": {},
     "output_type": "display_data"
    }
   ],
   "source": [
    "def process_text(examples):\n",
    "    inputs = examples['text']\n",
    "    out = tagging_chain.invoke({'inputs':enumerate(inputs),'examples': zip(samples['text'], samples['str_label']), \n",
    "                                'count':len(inputs), 'formatting_instructions': parser.get_format_instructions()})\n",
    "    \n",
    "    if len(out.results) != len(inputs):\n",
    "        examples['response']=['empty']*len(inputs)\n",
    "    else:\n",
    "        examples['response'] = [r.label for r in out.results[:len(inputs)]]\n",
    "    return examples\n",
    "\n",
    "sample = raw_datasets['test'].shuffle().select(range(100))\n",
    "dataset_processed = sample.map(process_text,num_proc=1,batched=True, batch_size=10)"
   ]
  },
  {
   "cell_type": "markdown",
   "id": "c03a9916-cc2b-4f66-8e33-eb2028f840b8",
   "metadata": {},
   "source": [
    "### Evaluation"
   ]
  },
  {
   "cell_type": "markdown",
   "id": "c9e1dc2d-8340-4296-b7fe-c8219d9d83a9",
   "metadata": {},
   "source": [
    "Let's evaluate the model again with accuracy metrics."
   ]
  },
  {
   "cell_type": "code",
   "execution_count": 41,
   "id": "73536267-bbde-4668-a96b-dda850f3aa75",
   "metadata": {},
   "outputs": [],
   "source": [
    "references = [r['label'] for r in dataset_processed if r['response'] != 'empty']\n",
    "predictions = [id_to_label[r['response']] for r in dataset_processed if r['response'] != 'empty']\n",
    "accuracy = accuracy_metric.compute(references=references,predictions=predictions)\n"
   ]
  },
  {
   "cell_type": "markdown",
   "id": "8c343318-91ad-4ab0-9503-7add914e1b53",
   "metadata": {},
   "source": [
    "Accuracy jumped to 87.5% . It shows that additional information helps LLM in text classification. We can further finetune the prompt by adding more examples as context window allows it, negative examples , hard negative examples and so on. Iterating on prompts is an art itself and LLM allows it to modify and see the impact instantly. \n",
    "\n",
    "### Tasks\n",
    "1. Try improving the accuracy by adding negative examples. Use `##Negative examples` as the header and obtain examples from a validation set( not shown here ).\n",
    "2. Checkout out `dspy` package which allows to iteratively optimize the prompt based on an objective. "
   ]
  },
  {
   "cell_type": "markdown",
   "id": "6014c8aa-5f87-4900-849c-c107353b86dd",
   "metadata": {},
   "source": [
    "# Finetuning the model\n",
    "\n",
    "After going through few prompt engineering models and understanding the impact, We will now move towards finetuning the model. This will ensure improvement in accuracy with the cost of computation. "
   ]
  },
  {
   "cell_type": "markdown",
   "id": "00f4f34e-6915-4a47-8bcc-f08173322c04",
   "metadata": {},
   "source": [
    "There are two main approaches to fine-tuning large language models (LLMs) for text classification tasks.\n",
    "\n",
    "1. **Building an Entire Domain-specific Model from scratch**\n",
    "\n",
    "- This approach involves training a foundational model entirely on industry-specific knowledge and data, using self-supervised learning techniques like next-token prediction and masking\n",
    "\n",
    "- It requires a massive amount of domain specific data and significant computational resources\n",
    "\n",
    "- An example of this approach is **BloombergGPT** which was trained on decades of financial data, requiring $2.7 million and 53 days of training\n",
    "\n",
    "- The advantage of this approach is that the resulting model is highly specialized and tailored to the specific domain, potentially leading to better performance on domain specific tasks"
   ]
  },
  {
   "cell_type": "markdown",
   "id": "c07ecf9f-c6d9-4460-a05f-2f6776628c37",
   "metadata": {},
   "source": [
    "2. **Finetuning a pretrained LLM**\n",
    "\n",
    "- This approach involves taking a pre-trained LLM such as GPT OR BERT, and fine tuning it on a smaller, domain specific dataset.\n",
    "  \n",
    "- It requires less data computation, and time compared to training from scratch, making it more efficient and cost-effective option\n",
    "\n",
    "  \n",
    "- Various techniques can be employed to enhance the fine-tuning process, such as transfer learning, retrieval-augmented generation (RAG), and a multi-task learning\n",
    "\n",
    "  \n",
    "- RAG combines the strengths of pre-trained models and information retrieval systems, enabling the model to retrieve and incorporate domain-specific knowledge during inference\n",
    "\n",
    "  \n",
    "- Multi-task learning involves training a single model on multiple related tasks simultaneously, allowing the model to learn shared representations and benefit from task synergies."
   ]
  },
  {
   "cell_type": "markdown",
   "id": "4252751e-c20f-4e06-9a32-b0bfbbf9ad8e",
   "metadata": {},
   "source": [
    "### Using AutoModelForSequenceClassification"
   ]
  },
  {
   "cell_type": "markdown",
   "id": "e429cd2b-10f3-4402-be6a-1bcfc238d293",
   "metadata": {},
   "source": [
    "In above methods, we used online API to call the LLM , generate the output and parse the results into the desired format. We can also download the model weights locally and use huggingface class `AutomodelForSequenceClassification` to classify the text. This class automatically adds a linear layer at the end to match the number of the classes."
   ]
  },
  {
   "cell_type": "markdown",
   "id": "4034207f-a512-437a-b18d-e100d6c11a63",
   "metadata": {},
   "source": [
    "Since default model is of a huge size. We need to quantize the weights to be able to load it to a 24GB graphics card. Here we quantize using only 4 bits. It reduces the model size to 4 GB which can be easily loaded into a graphic card for inference"
   ]
  },
  {
   "cell_type": "code",
   "execution_count": 17,
   "id": "b78b30c7-a34f-40c6-8718-1a09ba1dc771",
   "metadata": {},
   "outputs": [
    {
     "data": {
      "application/vnd.jupyter.widget-view+json": {
       "model_id": "55f4a056dd0c48e9aec2add07c80be45",
       "version_major": 2,
       "version_minor": 0
      },
      "text/plain": [
       "Loading checkpoint shards:   0%|          | 0/4 [00:00<?, ?it/s]"
      ]
     },
     "metadata": {},
     "output_type": "display_data"
    },
    {
     "name": "stderr",
     "output_type": "stream",
     "text": [
      "Some weights of LlamaForSequenceClassification were not initialized from the model checkpoint at meta-llama/Meta-Llama-3-8B and are newly initialized: ['score.weight']\n",
      "You should probably TRAIN this model on a down-stream task to be able to use it for predictions and inference.\n"
     ]
    }
   ],
   "source": [
    "from transformers import BitsAndBytesConfig, AutoModelForSequenceClassification\n",
    "import torch\n",
    "\n",
    "quantization_config = BitsAndBytesConfig(\n",
    "    load_in_4bit = True, \n",
    "    bnb_4bit_quant_type = 'nf4',\n",
    "    bnb_4bit_use_double_quant = True, \n",
    "    bnb_4bit_compute_dtype = torch.bfloat16 \n",
    ")\n",
    "\n",
    "model_name = \"meta-llama/Meta-Llama-3-8B\"\n",
    "\n",
    "model = AutoModelForSequenceClassification.from_pretrained(\n",
    "    model_name,\n",
    "    quantization_config=quantization_config,\n",
    "    num_labels=4,\n",
    "    device_map='auto'\n",
    ")"
   ]
  },
  {
   "cell_type": "markdown",
   "id": "356ba726-1cd2-4200-aa57-ee71f8b3eb54",
   "metadata": {},
   "source": [
    "## LoraConfig"
   ]
  },
  {
   "cell_type": "markdown",
   "id": "3ab1f784-48bd-4fcd-9ed8-200c5dc7671d",
   "metadata": {},
   "source": [
    "Here, we define the LORA Config to be able to load the model parameters. Here is the bird eye view of different options:"
   ]
  },
  {
   "cell_type": "code",
   "execution_count": 18,
   "id": "287aaa53-f951-4b39-819e-569408ae3986",
   "metadata": {},
   "outputs": [],
   "source": [
    "from peft import LoraConfig, prepare_model_for_kbit_training, get_peft_model\n",
    "\n",
    "lora_config = LoraConfig(\n",
    "    r = 16, \n",
    "    lora_alpha = 8,\n",
    "    target_modules = ['q_proj', 'k_proj', 'v_proj', 'o_proj'],\n",
    "    lora_dropout = 0.05, \n",
    "    bias = 'none',\n",
    "    task_type = 'SEQ_CLS'\n",
    ")\n",
    "\n",
    "model = prepare_model_for_kbit_training(model)\n",
    "model = get_peft_model(model, lora_config)"
   ]
  },
  {
   "cell_type": "markdown",
   "id": "506ed06f-56b9-4818-9813-d504ef0723aa",
   "metadata": {},
   "source": [
    "### Model testing - Pre training"
   ]
  },
  {
   "cell_type": "markdown",
   "id": "57b8e66e-8d30-4de8-95be-cc0ef4bc8b8d",
   "metadata": {},
   "source": [
    "Lets test the model accuracy before training. To do this, we first download the tokenizer, convert it into tokens and pass it to model to generate the sentence embeddings. There are multiple possible ways to extract the embeddings:\n",
    "\n",
    "1. Treat the next token distribution as the sentence embedding since it had seen the whole sentence and can be used as a representative token\n",
    "\n",
    "2. Get the final embeddings from the last layers for all the tokens and take the average."
   ]
  },
  {
   "cell_type": "markdown",
   "id": "92d5e45f-42e5-4675-930d-d75065f0a774",
   "metadata": {},
   "source": [
    "Luckily for us `AutoModelForSequenceClassification` handles the complex part in obtaining the sentence embedding from LLM, pass it to a linear module to obtain the logits for num_classes. "
   ]
  },
  {
   "cell_type": "code",
   "execution_count": 19,
   "id": "777ddb01-ac72-49ba-8eb3-7e4ed6139787",
   "metadata": {},
   "outputs": [
    {
     "name": "stderr",
     "output_type": "stream",
     "text": [
      "Special tokens have been added in the vocabulary, make sure the associated word embeddings are fine-tuned or trained.\n"
     ]
    }
   ],
   "source": [
    "from transformers import AutoTokenizer\n",
    "\n",
    "model_name = \"meta-llama/Meta-Llama-3-8B\"\n",
    "tokenizer = AutoTokenizer.from_pretrained(model_name, add_prefix_space=True)\n",
    "\n",
    "tokenizer.pad_token_id = tokenizer.eos_token_id\n",
    "tokenizer.pad_token = tokenizer.eos_token"
   ]
  },
  {
   "cell_type": "code",
   "execution_count": 20,
   "id": "527ce521-0ca6-4c60-b23b-9ebdd4df4d00",
   "metadata": {},
   "outputs": [],
   "source": [
    "model.config.pad_token_id = tokenizer.pad_token_id\n",
    "model.config.use_cache = False\n",
    "model.config.pretraining_tp = 1"
   ]
  },
  {
   "cell_type": "code",
   "execution_count": 21,
   "id": "e5870a96-df45-41d5-a20f-fa9db8ff4ff6",
   "metadata": {},
   "outputs": [],
   "source": [
    "from transformers import TrainingArguments, Trainer\n",
    "\n",
    "training_args = TrainingArguments(\n",
    "    output_dir = 'agnews_classification',\n",
    "    learning_rate = 1e-4,\n",
    "    per_device_train_batch_size = 16,\n",
    "    per_device_eval_batch_size = 16,\n",
    "    num_train_epochs = 3,\n",
    "    logging_steps=1,\n",
    "    weight_decay = 0.01,\n",
    "    eval_strategy = 'epoch',\n",
    "    save_strategy = 'epoch',\n",
    "    load_best_model_at_end = True,\n",
    "    report_to=\"none\"\n",
    ")"
   ]
  },
  {
   "cell_type": "code",
   "execution_count": 22,
   "id": "22e8eee1-43b7-4403-a892-5ec6126048a4",
   "metadata": {},
   "outputs": [],
   "source": [
    "def data_preprocesing(row):\n",
    "    return tokenizer(row['text'], truncation=True, max_length=512)\n",
    "\n",
    "tokenized_data = raw_datasets.map(data_preprocesing, batched=True, \n",
    "remove_columns=['text'])\n",
    "tokenized_data.set_format(\"torch\")"
   ]
  },
  {
   "cell_type": "code",
   "execution_count": 23,
   "id": "c538fbe0-2da9-44c9-8ecf-3945258f6592",
   "metadata": {},
   "outputs": [],
   "source": [
    "def compute_metrics(evaluations):\n",
    "    predictions, labels = evaluations\n",
    "    predictions = np.argmax(predictions, axis=1)\n",
    "    return {'balanced_accuracy' : balanced_accuracy_score(predictions, labels),\n",
    "    'accuracy':accuracy_score(predictions,labels)}"
   ]
  },
  {
   "cell_type": "code",
   "execution_count": null,
   "id": "af5e6886-5bf2-4eee-a3f9-3ba47f59d534",
   "metadata": {},
   "outputs": [
    {
     "name": "stderr",
     "output_type": "stream",
     "text": [
      "/home/puneet/venv/lib/python3.10/site-packages/torch/utils/checkpoint.py:464: UserWarning: torch.utils.checkpoint: the use_reentrant parameter should be passed explicitly. In version 2.4 we will raise an exception if use_reentrant is not passed. use_reentrant=False is recommended, but if you need to preserve the current default behavior, you can pass use_reentrant=True. Refer to docs for more details on the differences between the two variants.\n",
      "  warnings.warn(\n"
     ]
    },
    {
     "data": {
      "text/html": [
       "\n",
       "    <div>\n",
       "      \n",
       "      <progress value='6456' max='22500' style='width:300px; height:20px; vertical-align: middle;'></progress>\n",
       "      [ 6456/22500 7:43:03 < 19:11:06, 0.23 it/s, Epoch 0.86/3]\n",
       "    </div>\n",
       "    <table border=\"1\" class=\"dataframe\">\n",
       "  <thead>\n",
       " <tr style=\"text-align: left;\">\n",
       "      <th>Epoch</th>\n",
       "      <th>Training Loss</th>\n",
       "      <th>Validation Loss</th>\n",
       "    </tr>\n",
       "  </thead>\n",
       "  <tbody>\n",
       "  </tbody>\n",
       "</table><p>"
      ],
      "text/plain": [
       "<IPython.core.display.HTML object>"
      ]
     },
     "metadata": {},
     "output_type": "display_data"
    }
   ],
   "source": [
    "from transformers import DataCollatorWithPadding\n",
    "\n",
    "collate_fn = DataCollatorWithPadding(tokenizer=tokenizer)\n",
    "\n",
    "trainer = Trainer(\n",
    "    model = model,\n",
    "    args = training_args,\n",
    "    train_dataset = tokenized_data['train'],\n",
    "    eval_dataset = tokenized_data['test'],\n",
    "    tokenizer = tokenizer,\n",
    "    data_collator = collate_fn,\n",
    "    compute_metrics = compute_metrics,\n",
    ")\n",
    "\n",
    "train_result = trainer.train()"
   ]
  },
  {
   "cell_type": "markdown",
   "id": "508c8bbc-3ed4-4eb7-b369-68f78ba9b940",
   "metadata": {},
   "source": [
    "### Predictions"
   ]
  },
  {
   "cell_type": "code",
   "execution_count": 23,
   "id": "ac84fda5-c212-46f6-ac9f-3f3fecdafc9e",
   "metadata": {},
   "outputs": [],
   "source": [
    "def get_predictions(examples):\n",
    "    inputs = tokenizer(examples['text'], return_tensors='pt', padding=True, truncation=True, max_length=512)\n",
    "    inputs = {k: v.to('cuda' if torch.cuda.is_available() else 'cpu') for k, v in inputs.items()}\n",
    "\n",
    "    import pdb\n",
    "    pdb.set_trace()\n",
    "    with torch.no_grad():\n",
    "        outputs = model(**inputs)\n",
    "        examples['response'] = outputs['logits'].argmax(axis=1)\n",
    "\n",
    "    return examples\n",
    "\n"
   ]
  },
  {
   "cell_type": "code",
   "execution_count": 26,
   "id": "942aaf50-d3e4-460f-aa6c-b8b5ada1a231",
   "metadata": {},
   "outputs": [],
   "source": [
    "# sample = raw_datasets['test']\n",
    "# sample = sample.map(get_predictions, batched=True, batch_size=128)"
   ]
  },
  {
   "cell_type": "code",
   "execution_count": null,
   "id": "bd6a0aad-a047-42dc-a201-48cd056a6987",
   "metadata": {},
   "outputs": [
    {
     "name": "stdout",
     "output_type": "stream",
     "text": [
      "processing  0\n"
     ]
    }
   ],
   "source": [
    "#sentences = test_df.text.tolist()\n",
    "\n",
    "batch_size = 256  \n",
    "\n",
    "all_outputs = []\n",
    "\n",
    "for i in range(0, len(sentences), batch_size):\n",
    "    print('processing ',i)\n",
    "    batch_sentences = sentences[i:i + batch_size]\n",
    "\n",
    "    inputs = tokenizer(batch_sentences, return_tensors=\"pt\", \n",
    "    padding=True, truncation=True, max_length=512)\n",
    "\n",
    "    inputs = {k: v.to('cuda' if torch.cuda.is_available() else 'cpu') for k, v in inputs.items()}\n",
    "\n",
    "    with torch.no_grad():\n",
    "        outputs = model(**inputs)\n",
    "        all_outputs.append(outputs['logits'])\n",
    "        \n",
    "final_outputs = torch.cat(all_outputs, dim=0)\n",
    "#test_df['predictions']=final_outputs.argmax(axis=1).cpu().numpy()"
   ]
  },
  {
   "cell_type": "code",
   "execution_count": null,
   "id": "458ff2e6-1e1d-408c-baa6-212fb92acc28",
   "metadata": {},
   "outputs": [],
   "source": []
  },
  {
   "cell_type": "code",
   "execution_count": null,
   "id": "67d0c22b-fed0-4546-b41d-3a27885eb4c5",
   "metadata": {},
   "outputs": [],
   "source": [
    "from sklearn.metrics import accuracy_score, confusion_matrix\n",
    "from sklearn.metrics import balanced_accuracy_score, classification_report\n",
    "\n",
    "def get_metrics_result(test_df):\n",
    "    y_test = test_df.label\n",
    "    y_pred = test_df.predictions\n",
    "\n",
    "    print(\"Classification Report:\")\n",
    "    print(classification_report(y_test, y_pred))\n",
    "\n",
    "    print(\"Balanced Accuracy Score:\", balanced_accuracy_score(y_test, y_pred))\n",
    "    print(\"Accuracy Score:\", accuracy_score(y_test, y_pred))\n",
    "\n",
    "get_metrics_result(test_df)"
   ]
  },
  {
   "cell_type": "markdown",
   "id": "6297c7de-a4cb-4bbe-8a5d-c4a362e700c2",
   "metadata": {},
   "source": [
    "## Finetuning the model\n",
    "\n",
    "After going through few prompt engineering models and understanding the impact, We will now move towards finetuning the model. This will ensure improvement in accuracy with the cost of computation. "
   ]
  },
  {
   "cell_type": "markdown",
   "id": "6fbb1e74-a704-46ef-949e-268549f51e26",
   "metadata": {},
   "source": [
    "There are two main approaches to fine-tuning large language models (LLMs) for text classification tasks.\n",
    "\n",
    "1. **Building an Entire Domain-specific Model from scratch**\n",
    "\n",
    "- This approach involves training a foundational model entirely on industry-specific knowledge and data, using self-supervised learning techniques like next-token prediction and masking\n",
    "\n",
    "- It requires a massive amount of domain specific data and significant computational resources\n",
    "\n",
    "- An example of this approach is **BloombergGPT** which was trained on decades of financial data, requiring $2.7 million and 53 days of training\n",
    "\n",
    "- The advantage of this approach is that the resulting model is highly specialized and tailored to the specific domain, potentially leading to better performance on domain specific tasks"
   ]
  },
  {
   "cell_type": "markdown",
   "id": "2ee0a37c-22b8-4beb-8319-8cc2251f3ba5",
   "metadata": {},
   "source": [
    "2. **Finetuning a pretrained LLM**\n",
    "\n",
    "- This approach involves taking a pre-trained LLM such as GPT OR BERT, and fine tuning it on a smaller, domain specific dataset.\n",
    "  \n",
    "- It requires less data computation, and time compared to training from scratch, making it more efficient and cost-effective option\n",
    "\n",
    "  \n",
    "- Various techniques can be employed to enhance the fine-tuning process, such as transfer learning, retrieval-augmented generation (RAG), and a multi-task learning\n",
    "\n",
    "  \n",
    "- RAG combines the strengths of pre-trained models and information retrieval systems, enabling the model to retrieve and incorporate domain-specific knowledge during inference\n",
    "\n",
    "  \n",
    "- Multi-task learning involves training a single model on multiple related tasks simultaneously, allowing the model to learn shared representations and benefit from task synergies."
   ]
  },
  {
   "cell_type": "markdown",
   "id": "22862624-c493-497e-957f-8fa5d409783b",
   "metadata": {},
   "source": [
    "Let's see how we can fine-tune LLAMA 3 model for a text classification task"
   ]
  },
  {
   "cell_type": "markdown",
   "id": "38c37a6d-cc7e-463e-ac66-b2e6fec2b080",
   "metadata": {},
   "source": [
    "There are again two ways to finetune the LLAMA 3 model.\n",
    "\n",
    "1. Using transfer learning on the embeddings extracted from LLAMA 3\n",
    "2. Finetuning large language model on the new dataset\n",
    "\n",
    "Approach 1 is more suited when we have less amount of training data. "
   ]
  },
  {
   "cell_type": "markdown",
   "id": "43745fb7-4192-4d39-a760-397543cecbdb",
   "metadata": {},
   "source": [
    "We need to first download and prepare model for training. Most of the time, we don't have enough resources to work on 70b model ( estimated GPU size required > 48GB ), hence we use quantized model"
   ]
  },
  {
   "cell_type": "markdown",
   "id": "18cb0119-c811-4342-8b14-cfc3cad8a850",
   "metadata": {},
   "source": [
    "### Transfer Learning"
   ]
  },
  {
   "cell_type": "code",
   "execution_count": null,
   "id": "43494d4d-bcd6-43a5-9b5c-25d0b50b581b",
   "metadata": {},
   "outputs": [],
   "source": []
  },
  {
   "cell_type": "markdown",
   "id": "8abbd7c5-c4b8-4f99-a60a-b8ca86d041a4",
   "metadata": {},
   "source": [
    "### Finetuning large language model"
   ]
  },
  {
   "cell_type": "markdown",
   "id": "7f37e8b0-e3db-4ce2-a0a8-b8c10853bd71",
   "metadata": {},
   "source": [
    "### Quantization"
   ]
  },
  {
   "cell_type": "code",
   "execution_count": 45,
   "id": "d77e153f-d496-4ec3-9cf9-a8a4273ef584",
   "metadata": {},
   "outputs": [],
   "source": [
    "# from transformers import BitsAndBytesConfig, AutoModelForSequenceClassification\n",
    "# import torch\n",
    "\n",
    "# quantization_config = BitsAndBytesConfig(\n",
    "#     load_in_4bit = True, \n",
    "#     bnb_4bit_quant_type = 'nf4',\n",
    "#     bnb_4bit_use_double_quant = True, \n",
    "#     bnb_4bit_compute_dtype = torch.bfloat16 \n",
    "# )\n",
    "\n",
    "# model_name = \"meta-llama/Meta-Llama-3-8B\"\n",
    "\n",
    "# model = AutoModelForSequenceClassification.from_pretrained(\n",
    "#     model_name,\n",
    "#     quantization_config=quantization_config,\n",
    "#     num_labels=4,\n",
    "#     device_map='auto'\n",
    "# )"
   ]
  },
  {
   "cell_type": "markdown",
   "id": "a8e23796-c0ce-4656-ae5f-1714cb9aba05",
   "metadata": {},
   "source": [
    "### Lora Configuration"
   ]
  },
  {
   "cell_type": "code",
   "execution_count": null,
   "id": "cac11feb-7b42-4e89-b64a-0e09192754c9",
   "metadata": {},
   "outputs": [],
   "source": [
    "from peft import LoraConfig, prepare_model_for_kbit_training, get_peft_model\n",
    "\n",
    "lora_config = LoraConfig(\n",
    "    r = 16, \n",
    "    lora_alpha = 8,\n",
    "    target_modules = ['q_proj', 'k_proj', 'v_proj', 'o_proj'],\n",
    "    lora_dropout = 0.05, \n",
    "    bias = 'none',\n",
    "    task_type = 'SEQ_CLS'\n",
    ")\n",
    "\n",
    "model = prepare_model_for_kbit_training(model)\n",
    "model = get_peft_model(model, lora_config)"
   ]
  },
  {
   "cell_type": "code",
   "execution_count": null,
   "id": "6ae9429a-90c7-4091-b420-18c1ced80405",
   "metadata": {},
   "outputs": [],
   "source": []
  },
  {
   "cell_type": "markdown",
   "id": "0d9a4495-61d9-47ce-9993-f35eec4acc1b",
   "metadata": {},
   "source": [
    "### Rationale for different approaches\n",
    "\n"
   ]
  },
  {
   "cell_type": "code",
   "execution_count": null,
   "id": "04854885-cb42-470e-9349-651aa5bafc4f",
   "metadata": {},
   "outputs": [],
   "source": []
  },
  {
   "cell_type": "markdown",
   "id": "f694dd01-52fe-4eb1-b0f1-24c2e178547f",
   "metadata": {},
   "source": [
    "## Reference"
   ]
  },
  {
   "cell_type": "markdown",
   "id": "55ae90a3-15d8-4a14-be75-de2715959462",
   "metadata": {},
   "source": [
    "- Text classification using large language models\n",
    "  \n",
    "https://aclanthology.org/2023.findings-emnlp.603.pdf"
   ]
  },
  {
   "cell_type": "markdown",
   "id": "dffc074d-3477-454f-be8f-6a79b58bc2f7",
   "metadata": {},
   "source": [
    "## Scratchpad"
   ]
  },
  {
   "cell_type": "code",
   "execution_count": 11,
   "id": "88a17e75-bc21-44bd-87c2-3d8adc337081",
   "metadata": {},
   "outputs": [],
   "source": [
    "from jinja2 import Template"
   ]
  },
  {
   "cell_type": "code",
   "execution_count": 13,
   "id": "3a14f872-3545-4fc8-a6a9-2e619a099857",
   "metadata": {},
   "outputs": [],
   "source": [
    "columns=['first','second','third']"
   ]
  },
  {
   "cell_type": "code",
   "execution_count": 16,
   "id": "cb7daf7d-a2bf-4ee7-b418-a1a21e1d163f",
   "metadata": {},
   "outputs": [],
   "source": [
    "template_str = '''\n",
    "<table class='example collapse'>\n",
    "    <thead>\n",
    "        <tr>\n",
    "            {%for c in columns%}\n",
    "            <th> {{c}} </th>\n",
    "            {% endfor %}\n",
    "        </tr>\n",
    "    </thead>\n",
    "</table>\n",
    "'''"
   ]
  },
  {
   "cell_type": "code",
   "execution_count": 17,
   "id": "221a7a11-5eeb-41be-a134-5a19bc495283",
   "metadata": {},
   "outputs": [],
   "source": [
    "template=Template(template_str)"
   ]
  },
  {
   "cell_type": "code",
   "execution_count": 19,
   "id": "accad585-de53-423d-9444-4bb70c9f9bd5",
   "metadata": {},
   "outputs": [
    {
     "name": "stdout",
     "output_type": "stream",
     "text": [
      "\n",
      "<table class='example collapse'>\n",
      "    <thead>\n",
      "        <tr>\n",
      "            \n",
      "            <th> first </th>\n",
      "            \n",
      "            <th> second </th>\n",
      "            \n",
      "            <th> third </th>\n",
      "            \n",
      "        </tr>\n",
      "    </thead>\n",
      "</table>\n"
     ]
    }
   ],
   "source": [
    "print(template.render(columns=columns))"
   ]
  },
  {
   "cell_type": "code",
   "execution_count": null,
   "id": "4771102b-8493-46d7-a75a-ab82b86d1f12",
   "metadata": {},
   "outputs": [],
   "source": []
  }
 ],
 "metadata": {
  "kernelspec": {
   "display_name": "Python 3 (ipykernel)",
   "language": "python",
   "name": "python3"
  },
  "language_info": {
   "codemirror_mode": {
    "name": "ipython",
    "version": 3
   },
   "file_extension": ".py",
   "mimetype": "text/x-python",
   "name": "python",
   "nbconvert_exporter": "python",
   "pygments_lexer": "ipython3",
   "version": "3.10.12"
  }
 },
 "nbformat": 4,
 "nbformat_minor": 5
}