{
 "cells": [
  {
   "cell_type": "code",
   "execution_count": 1,
   "id": "ace27261-f751-4175-a32f-bfdf18d62a04",
   "metadata": {},
   "outputs": [],
   "source": [
    "%load_ext autoreload\n",
    "%autoreload 2"
   ]
  },
  {
   "cell_type": "code",
   "execution_count": 2,
   "id": "8826b862-8961-426b-8deb-92cf0d3e6b4d",
   "metadata": {},
   "outputs": [],
   "source": [
    "from datasets import load_dataset\n",
    "\n",
    "dataset = load_dataset(\"frgfm/imagenette\",'160px',cache_dir='/mnt/d')"
   ]
  },
  {
   "cell_type": "markdown",
   "id": "a07c36e2-9c73-4e62-8394-0047bd2f84b5",
   "metadata": {},
   "source": [
    "Lets look at the dataset"
   ]
  },
  {
   "cell_type": "code",
   "execution_count": 3,
   "id": "3a2e24ec-16d0-44ef-a2ca-e1b0e2c46594",
   "metadata": {},
   "outputs": [],
   "source": [
    "CLASSES = dataset['train'].features['label'].names\n",
    "NUM_CLASSES = len(CLASSES)"
   ]
  },
  {
   "cell_type": "markdown",
   "id": "656768e0-a353-47b0-ac48-0af829df4e96",
   "metadata": {},
   "source": [
    "## Transforms"
   ]
  },
  {
   "cell_type": "code",
   "execution_count": 16,
   "id": "5b45ea4e-22e5-4230-b1df-441f6c256996",
   "metadata": {},
   "outputs": [
    {
     "name": "stderr",
     "output_type": "stream",
     "text": [
      "/home/puneet/venv/lib/python3.10/site-packages/torchvision/transforms/v2/_deprecated.py:42: UserWarning: The transform `ToTensor()` is deprecated and will be removed in a future release. Instead, please use `v2.Compose([v2.ToImage(), v2.ToDtype(torch.float32, scale=True)])`.Output is equivalent up to float precision.\n",
      "  warnings.warn(\n"
     ]
    }
   ],
   "source": [
    "from torchvision.transforms import v2\n",
    "\n",
    "normalize = v2.Normalize(mean=[0.485, 0.456, 0.406], std=[0.229, 0.224, 0.225])\n",
    "size = 128\n",
    "train_transform = v2.Compose([\n",
    "    v2.RandomHorizontalFlip(),\n",
    "    v2.ColorJitter(brightness=0.4, contrast=0.4, saturation=0.4),\n",
    "    v2.RandomRotation(degrees=15),\n",
    "    v2.Resize(size*2),\n",
    "    v2.CenterCrop(size),\n",
    "    v2.ToTensor(),\n",
    "    normalize,\n",
    "])\n",
    "\n",
    "test_transform = v2.Compose([\n",
    "    v2.Resize(size+32),\n",
    "    v2.CenterCrop(size),\n",
    "    v2.ToTensor(),\n",
    "    normalize,\n",
    "])"
   ]
  },
  {
   "cell_type": "code",
   "execution_count": 17,
   "id": "e7161ae3-ea89-45aa-b74b-3dbea076b88f",
   "metadata": {},
   "outputs": [],
   "source": [
    "\n",
    "def train_transforms(examples):\n",
    "    examples[\"pixel_values\"] = [train_transform(image.convert(\"RGB\")) for image in examples[\"image\"]]\n",
    "    return examples\n",
    "\n",
    "\n",
    "def test_transforms(examples):\n",
    "    examples[\"pixel_values\"] = [test_transform(image.convert(\"RGB\")) for image in examples[\"image\"]]\n",
    "    return examples\n",
    "\n",
    "dataset['train'].set_transform(train_transforms)\n",
    "dataset['validation'].set_transform(test_transforms)\n"
   ]
  },
  {
   "cell_type": "code",
   "execution_count": 18,
   "id": "c045cb06-ead8-4897-a792-707c66c711bf",
   "metadata": {},
   "outputs": [
    {
     "name": "stdout",
     "output_type": "stream",
     "text": [
      "training length 9469\n",
      "validation length 3925\n"
     ]
    }
   ],
   "source": [
    "print('training length', len(dataset['train']))\n",
    "print('validation length', len(dataset['validation']))"
   ]
  },
  {
   "cell_type": "markdown",
   "id": "92df4130-1c31-41ba-a66f-c19c2a67a1c3",
   "metadata": {},
   "source": [
    "## Modelling"
   ]
  },
  {
   "cell_type": "code",
   "execution_count": 19,
   "id": "1946cf13-6942-4284-86e0-78db1a01eedb",
   "metadata": {},
   "outputs": [],
   "source": [
    "from transformers import PretrainedConfig\n",
    "from typing import List\n",
    "from transformers import PreTrainedModel\n",
    "from timm.models.resnet import BasicBlock, Bottleneck, ResNet\n",
    "import torch\n",
    "import timm\n"
   ]
  },
  {
   "cell_type": "code",
   "execution_count": 20,
   "id": "89326c0d-9a05-44d6-a86e-55162ee7a6a9",
   "metadata": {},
   "outputs": [],
   "source": [
    "class ResNetConfig(PretrainedConfig):\n",
    "    model_type='resnet'\n",
    "    def __init__(self, model_name='resnet50d', **kwargs):\n",
    "        self.model_name = model_name\n",
    "        super().__init__(**kwargs)\n",
    "        \n",
    "class ResnetModelForImageClassification(PreTrainedModel):\n",
    "    def __init__(self, config):\n",
    "        super().__init__(config)\n",
    "        self.model = timm.create_model(config.model_name,pretrained=False, num_classes=NUM_CLASSES)\n",
    "        self.criterion = torch.nn.CrossEntropyLoss()\n",
    "\n",
    "    def forward(self, pixel_values, labels=None):\n",
    "        logits = self.model(pixel_values)\n",
    "        if labels is not None:\n",
    "            loss = self.criterion(logits, labels)\n",
    "            return {'loss': loss, 'logits': logits}\n",
    "        return {'logits': logits}\n",
    "        "
   ]
  },
  {
   "cell_type": "markdown",
   "id": "d5eb560c-264a-4120-9789-a9d71ed6380c",
   "metadata": {},
   "source": [
    "## Training"
   ]
  },
  {
   "cell_type": "code",
   "execution_count": 21,
   "id": "c33ed046-1a3b-42c4-a705-1b3df4a3a6d0",
   "metadata": {},
   "outputs": [],
   "source": [
    "from transformers import TrainingArguments, Trainer\n",
    "\n",
    "model_name = 'resnet'\n",
    "batch_size = 256\n",
    "args = TrainingArguments(\n",
    "    f\"{model_name}-finetuned-eurosat\",\n",
    "    remove_unused_columns=False,\n",
    "    eval_strategy = \"epoch\",\n",
    "    save_strategy = \"epoch\",\n",
    "    learning_rate=0.001,\n",
    "    per_device_train_batch_size=batch_size,\n",
    "    gradient_accumulation_steps=1,\n",
    "    per_device_eval_batch_size=batch_size,\n",
    "    num_train_epochs=30,\n",
    "    warmup_ratio=0.1,\n",
    "    logging_steps=1,\n",
    "    max_grad_norm=0.1,\n",
    "    weight_decay=0.05,\n",
    "    load_best_model_at_end=True,\n",
    "    metric_for_best_model=\"accuracy\",\n",
    "    push_to_hub=False,\n",
    "    dataloader_num_workers=8,\n",
    "    fp16=True,\n",
    ")\n"
   ]
  },
  {
   "cell_type": "code",
   "execution_count": 22,
   "id": "7725915d-8883-45b1-a4e8-b11f68776106",
   "metadata": {},
   "outputs": [],
   "source": [
    "import numpy as np\n",
    "import evaluate\n",
    "metric = evaluate.load(\"accuracy\")\n",
    "\n",
    "# the compute_metrics function takes a Named Tuple as input:\n",
    "# predictions, which are the logits of the model as Numpy arrays,\n",
    "\n",
    "# and label_ids, which are the ground-truth labels as Numpy arrays.\n",
    "\n",
    "def compute_metrics(eval_pred):\n",
    "    \"\"\"Computes accuracy on a batch of predictions\"\"\"\n",
    "    predictions = np.argmax(eval_pred.predictions, axis=1)\n",
    "    return metric.compute(predictions=predictions, references=eval_pred.label_ids)"
   ]
  },
  {
   "cell_type": "code",
   "execution_count": 23,
   "id": "69a46f53-ddd8-4967-b45f-0527ff14441c",
   "metadata": {},
   "outputs": [],
   "source": [
    "import torch\n",
    "\n",
    "def collate_fn(examples):\n",
    "    pixel_values = torch.stack([example[\"pixel_values\"] for example in examples])\n",
    "    labels = torch.tensor([example[\"label\"] for example in examples])\n",
    "    return {\"pixel_values\": pixel_values, \"labels\": labels}"
   ]
  },
  {
   "cell_type": "markdown",
   "id": "5e11fa7c-f56d-4eee-8598-0941725e625f",
   "metadata": {},
   "source": [
    "### Callbacks"
   ]
  },
  {
   "cell_type": "code",
   "execution_count": 24,
   "id": "509e3e10-49d9-4489-956a-79527aff68ce",
   "metadata": {},
   "outputs": [],
   "source": [
    "from utils import MixupCallback, CutMixCallback, LabelSmoothingCallback\n",
    "from lr_finder import LearningRateFinderCallback\n",
    "\n",
    "import matplotlib.pyplot as plt\n",
    "from transformers import TrainerCallback, TrainingArguments\n",
    "from torch.optim import lr_scheduler\n",
    "\n",
    "from transformers.optimization import Adafactor, AdafactorSchedule\n",
    "from torch.optim import lr_scheduler, AdamW\n",
    "from transformers import EarlyStoppingCallback\n"
   ]
  },
  {
   "cell_type": "markdown",
   "id": "59391032-ed14-46da-a85f-e9f9b730b953",
   "metadata": {},
   "source": [
    "### Trainer"
   ]
  },
  {
   "cell_type": "markdown",
   "id": "ff1b61e9-dd08-4e49-9fcf-ed7bc2da67ac",
   "metadata": {
    "jp-MarkdownHeadingCollapsed": true
   },
   "source": [
    "#### Learning rate finder"
   ]
  },
  {
   "cell_type": "code",
   "execution_count": 98,
   "id": "f250d290-94d2-4b63-b9ad-8530a2b901be",
   "metadata": {},
   "outputs": [],
   "source": [
    "\n",
    "resnetconfig = ResNetConfig()\n",
    "model = ResnetModelForImageClassification(resnetconfig)\n",
    "\n",
    "optimizer = AdamW(model.parameters(),  lr=1, eps=1e-08)\n",
    "scheduler = lr_scheduler.LinearLR(optimizer, start_factor=1e-7, total_iters=200)\n",
    "#scheduler = lr_scheduler.OneCycleLR(optimizer, max_lr=0.01, steps_per_epoch=20, epochs=10)\n",
    "\n",
    "\n",
    "trainer = Trainer(\n",
    "    model,\n",
    "    args,\n",
    "    train_dataset=dataset['train'],\n",
    "    eval_dataset=dataset['validation'],\n",
    "    compute_metrics=compute_metrics,\n",
    "    data_collator=collate_fn,\n",
    "    optimizers=(optimizer, scheduler),\n",
    "    callbacks=[  LearningRateFinderCallback()]\n",
    ")"
   ]
  },
  {
   "cell_type": "code",
   "execution_count": 99,
   "id": "5faebe45-538b-4939-8eb3-3815b84e096e",
   "metadata": {},
   "outputs": [
    {
     "name": "stderr",
     "output_type": "stream",
     "text": [
      "Could not estimate the number of tokens of the input, floating-point operations will not be computed\n"
     ]
    },
    {
     "data": {
      "text/html": [
       "\n",
       "    <div>\n",
       "      \n",
       "      <progress value='200' max='1110' style='width:300px; height:20px; vertical-align: middle;'></progress>\n",
       "      [ 200/1110 00:41 < 03:08, 4.83 it/s, Epoch 5/30]\n",
       "    </div>\n",
       "    <table border=\"1\" class=\"dataframe\">\n",
       "  <thead>\n",
       " <tr style=\"text-align: left;\">\n",
       "      <th>Epoch</th>\n",
       "      <th>Training Loss</th>\n",
       "      <th>Validation Loss</th>\n",
       "      <th>Accuracy</th>\n",
       "    </tr>\n",
       "  </thead>\n",
       "  <tbody>\n",
       "    <tr>\n",
       "      <td>1</td>\n",
       "      <td>2.694400</td>\n",
       "      <td>nan</td>\n",
       "      <td>0.099618</td>\n",
       "    </tr>\n",
       "    <tr>\n",
       "      <td>2</td>\n",
       "      <td>2.354600</td>\n",
       "      <td>nan</td>\n",
       "      <td>0.098599</td>\n",
       "    </tr>\n",
       "    <tr>\n",
       "      <td>3</td>\n",
       "      <td>3.348100</td>\n",
       "      <td>nan</td>\n",
       "      <td>0.098599</td>\n",
       "    </tr>\n",
       "    <tr>\n",
       "      <td>4</td>\n",
       "      <td>0.000000</td>\n",
       "      <td>nan</td>\n",
       "      <td>0.098599</td>\n",
       "    </tr>\n",
       "    <tr>\n",
       "      <td>5</td>\n",
       "      <td>0.000000</td>\n",
       "      <td>nan</td>\n",
       "      <td>0.098599</td>\n",
       "    </tr>\n",
       "  </tbody>\n",
       "</table><p>"
      ],
      "text/plain": [
       "<IPython.core.display.HTML object>"
      ]
     },
     "metadata": {},
     "output_type": "display_data"
    },
    {
     "name": "stdout",
     "output_type": "stream",
     "text": [
      "[0.005000099500000001, 0.010000099000000002, 0.015000098500000003, 0.020000098000000004, 0.020000098000000004, 0.025000097500000006, 0.030000097000000003, 0.03500009650000001, 0.04000009600000001, 0.04500009550000001, 0.050000095000000015, 0.05500009450000002, 0.060000094000000025, 0.06500009350000002, 0.07000009300000003, 0.07500009250000002, 0.08000009200000002, 0.08500009150000003, 0.09000009100000003, 0.09500009050000004, 0.10000009000000003, 0.10500008950000003, 0.11000008900000004, 0.11500008850000004, 0.12000008800000003, 0.12500008750000002, 0.13000008700000004, 0.13500008650000003, 0.14000008600000002, 0.14500008550000004, 0.15000008500000006, 0.15500008450000008, 0.1600000840000001, 0.1650000835000001, 0.17000008300000008, 0.17500008250000007, 0.18000008200000006, 0.18500008150000008, 0.19000008100000007, 0.19500008050000006, 0.20000008000000008, 0.2050000795000001, 0.2050000795000001, 0.2050000795000001, 0.2050000795000001, 0.2050000795000001, 0.21000007900000012, 0.2150000785000001, 0.2200000780000001, 0.2250000775000001, 0.23000007700000008, 0.2350000765000001, 0.24000007600000012, 0.24500007550000014, 0.25000007500000015, 0.2550000745000002, 0.2600000740000002, 0.2650000735000002, 0.27000007300000023, 0.27500007250000025, 0.28000007200000027, 0.28500007150000023, 0.2900000710000002, 0.2950000705000002, 0.3000000700000002, 0.3050000695000002, 0.31000006900000016, 0.3150000685000001, 0.32000006800000014, 0.32500006750000016, 0.3300000670000002, 0.3350000665000002, 0.3400000660000002, 0.34500006550000023, 0.3500000650000002, 0.35500006450000016, 0.3600000640000001, 0.36500006350000014, 0.37000006300000016, 0.3750000625000001, 0.38000006200000014, 0.3850000615000001, 0.3900000610000001, 0.39500006050000014, 0.40000006000000016, 0.4050000595000001, 0.41000005900000014, 0.4150000585000001, 0.42000005800000006, 0.4250000575000001, 0.4300000570000001, 0.4350000565000001, 0.4400000560000001, 0.4450000555000001, 0.4500000550000001, 0.4550000545000001, 0.46000005400000005, 0.46500005350000007, 0.47000005300000003, 0.47500005250000005, 0.48000005200000007, 0.4850000515000001, 0.4900000510000001, 0.4950000505000001, 0.5000000500000001, 0.5050000495000002, 0.5100000490000002, 0.5150000485000001, 0.5200000480000002, 0.5250000475000002, 0.5300000470000003, 0.5350000465000002, 0.5400000460000003, 0.5450000455000003, 0.5500000450000002, 0.5550000445000003, 0.5600000440000003, 0.5650000435000003, 0.5700000430000003, 0.5750000425000003, 0.5800000420000002, 0.5850000415000002, 0.5900000410000001, 0.5950000405000001, 0.6000000400000001, 0.6050000395, 0.610000039, 0.6150000385, 0.6200000379999999, 0.6250000374999999, 0.630000037, 0.6350000365, 0.6400000360000001, 0.6450000355000001, 0.650000035, 0.6550000345000001, 0.6600000340000001, 0.6650000335, 0.670000033, 0.6750000325, 0.6800000319999999, 0.6850000314999999, 0.6850000314999999, 0.6850000314999999, 0.6850000314999999, 0.6850000314999999, 0.6850000314999999, 0.6850000314999999, 0.6850000314999999, 0.6850000314999999, 0.6850000314999999, 0.6850000314999999, 0.6850000314999999, 0.6850000314999999, 0.6850000314999999, 0.6850000314999999, 0.6850000314999999, 0.6850000314999999, 0.6850000314999999, 0.6850000314999999, 0.6850000314999999, 0.6850000314999999, 0.6850000314999999, 0.6850000314999999, 0.6850000314999999, 0.6850000314999999, 0.6850000314999999, 0.6850000314999999, 0.6850000314999999, 0.6850000314999999, 0.6850000314999999, 0.6850000314999999, 0.6850000314999999, 0.6850000314999999, 0.6850000314999999, 0.6850000314999999, 0.6850000314999999, 0.6850000314999999, 0.6850000314999999, 0.6850000314999999, 0.6850000314999999, 0.6850000314999999, 0.6850000314999999, 0.6850000314999999, 0.6850000314999999, 0.6850000314999999, 0.6850000314999999, 0.6850000314999999, 0.6850000314999999, 0.6850000314999999, 0.6850000314999999, 0.6850000314999999, 0.6850000314999999, 0.6850000314999999, 0.6850000314999999, 0.6850000314999999, 0.6850000314999999, 0.6850000314999999, 0.6850000314999999, 0.6850000314999999]\n"
     ]
    },
    {
     "data": {
      "text/plain": [
       "<Figure size 1000x600 with 0 Axes>"
      ]
     },
     "metadata": {},
     "output_type": "display_data"
    },
    {
     "data": {
      "image/png": "[encoded data removed]",
      "text/plain": [
       "<Figure size 1000x500 with 2 Axes>"
      ]
     },
     "metadata": {},
     "output_type": "display_data"
    },
    {
     "name": "stdout",
     "output_type": "stream",
     "text": [
      "Learning rate finder complete. Please analyze the plot to select a suitable learning rate.\n"
     ]
    },
    {
     "data": {
      "text/plain": [
       "TrainOutput(global_step=200, training_loss=2.1038630747795106, metrics={'train_runtime': 42.1658, 'train_samples_per_second': 6736.97, 'train_steps_per_second': 26.325, 'total_flos': 0.0, 'train_loss': 2.1038630747795106, 'epoch': 5.405405405405405})"
      ]
     },
     "execution_count": 99,
     "metadata": {},
     "output_type": "execute_result"
    }
   ],
   "source": [
    "trainer.train()"
   ]
  },
  {
   "cell_type": "markdown",
   "id": "64962b4f-1c24-48f8-a3f3-de8bae40d22d",
   "metadata": {},
   "source": [
    "#### Train"
   ]
  },
  {
   "cell_type": "code",
   "execution_count": 34,
   "id": "8cf8bc2d-b2ec-40d6-837e-33c9aa95bb67",
   "metadata": {},
   "outputs": [],
   "source": [
    "resnetconfig = ResNetConfig()\n",
    "model = ResnetModelForImageClassification(resnetconfig)\n",
    "\n",
    "optimizer = AdamW(model.parameters(),  lr=0.001, eps=1e-08)\n",
    "#scheduler = lr_scheduler.LinearLR(optimizer, start_factor=1e-7, total_iters=200)\n",
    "scheduler = lr_scheduler.OneCycleLR(optimizer, max_lr=0.01, epochs=10, steps_per_epoch=28)\n",
    "\n",
    "trainer = Trainer(\n",
    "    model,\n",
    "    args,\n",
    "    train_dataset=dataset['train'],\n",
    "    eval_dataset=dataset['validation'],\n",
    "    compute_metrics=compute_metrics,\n",
    "    data_collator=collate_fn,\n",
    "    optimizers=(optimizer, scheduler),\n",
    "    callbacks=[ EarlyStoppingCallback(early_stopping_patience=5), LabelSmoothingCallback()]\n",
    ")"
   ]
  },
  {
   "cell_type": "code",
   "execution_count": 35,
   "id": "b4dafa5b-2bf0-4f08-aaca-158140a2dc09",
   "metadata": {},
   "outputs": [],
   "source": [
    "size=128"
   ]
  },
  {
   "cell_type": "code",
   "execution_count": 36,
   "id": "0f5e6dd9-d98a-47db-9b37-8e363eafa7e7",
   "metadata": {},
   "outputs": [
    {
     "name": "stderr",
     "output_type": "stream",
     "text": [
      "Could not estimate the number of tokens of the input, floating-point operations will not be computed\n"
     ]
    },
    {
     "data": {
      "text/html": [
       "\n",
       "    <div>\n",
       "      \n",
       "      <progress value='281' max='1110' style='width:300px; height:20px; vertical-align: middle;'></progress>\n",
       "      [ 281/1110 00:56 < 02:48, 4.91 it/s, Epoch 7.57/30]\n",
       "    </div>\n",
       "    <table border=\"1\" class=\"dataframe\">\n",
       "  <thead>\n",
       " <tr style=\"text-align: left;\">\n",
       "      <th>Epoch</th>\n",
       "      <th>Training Loss</th>\n",
       "      <th>Validation Loss</th>\n",
       "      <th>Accuracy</th>\n",
       "    </tr>\n",
       "  </thead>\n",
       "  <tbody>\n",
       "    <tr>\n",
       "      <td>1</td>\n",
       "      <td>1.777700</td>\n",
       "      <td>3.947062</td>\n",
       "      <td>0.218089</td>\n",
       "    </tr>\n",
       "    <tr>\n",
       "      <td>2</td>\n",
       "      <td>1.632000</td>\n",
       "      <td>2.919278</td>\n",
       "      <td>0.280255</td>\n",
       "    </tr>\n",
       "    <tr>\n",
       "      <td>3</td>\n",
       "      <td>1.568100</td>\n",
       "      <td>1.811921</td>\n",
       "      <td>0.414013</td>\n",
       "    </tr>\n",
       "    <tr>\n",
       "      <td>4</td>\n",
       "      <td>1.201100</td>\n",
       "      <td>1.634535</td>\n",
       "      <td>0.465987</td>\n",
       "    </tr>\n",
       "    <tr>\n",
       "      <td>5</td>\n",
       "      <td>1.112300</td>\n",
       "      <td>1.365303</td>\n",
       "      <td>0.559490</td>\n",
       "    </tr>\n",
       "    <tr>\n",
       "      <td>6</td>\n",
       "      <td>0.806300</td>\n",
       "      <td>1.377385</td>\n",
       "      <td>0.572229</td>\n",
       "    </tr>\n",
       "    <tr>\n",
       "      <td>7</td>\n",
       "      <td>0.852700</td>\n",
       "      <td>1.151188</td>\n",
       "      <td>0.625987</td>\n",
       "    </tr>\n",
       "  </tbody>\n",
       "</table><p>"
      ],
      "text/plain": [
       "<IPython.core.display.HTML object>"
      ]
     },
     "metadata": {},
     "output_type": "display_data"
    },
    {
     "ename": "ValueError",
     "evalue": "Tried to step 281 times. The specified number of total steps is 280",
     "output_type": "error",
     "traceback": [
      "\u001b[0;31m---------------------------------------------------------------------------\u001b[0m",
      "\u001b[0;31mValueError\u001b[0m                                Traceback (most recent call last)",
      "Cell \u001b[0;32mIn[36], line 1\u001b[0m\n\u001b[0;32m----> 1\u001b[0m \u001b[43mtrainer\u001b[49m\u001b[38;5;241;43m.\u001b[39;49m\u001b[43mtrain\u001b[49m\u001b[43m(\u001b[49m\u001b[43m)\u001b[49m\n",
      "File \u001b[0;32m~/venv/lib/python3.10/site-packages/transformers/trainer.py:1885\u001b[0m, in \u001b[0;36mTrainer.train\u001b[0;34m(self, resume_from_checkpoint, trial, ignore_keys_for_eval, **kwargs)\u001b[0m\n\u001b[1;32m   1883\u001b[0m         hf_hub_utils\u001b[38;5;241m.\u001b[39menable_progress_bars()\n\u001b[1;32m   1884\u001b[0m \u001b[38;5;28;01melse\u001b[39;00m:\n\u001b[0;32m-> 1885\u001b[0m     \u001b[38;5;28;01mreturn\u001b[39;00m \u001b[43minner_training_loop\u001b[49m\u001b[43m(\u001b[49m\n\u001b[1;32m   1886\u001b[0m \u001b[43m        \u001b[49m\u001b[43margs\u001b[49m\u001b[38;5;241;43m=\u001b[39;49m\u001b[43margs\u001b[49m\u001b[43m,\u001b[49m\n\u001b[1;32m   1887\u001b[0m \u001b[43m        \u001b[49m\u001b[43mresume_from_checkpoint\u001b[49m\u001b[38;5;241;43m=\u001b[39;49m\u001b[43mresume_from_checkpoint\u001b[49m\u001b[43m,\u001b[49m\n\u001b[1;32m   1888\u001b[0m \u001b[43m        \u001b[49m\u001b[43mtrial\u001b[49m\u001b[38;5;241;43m=\u001b[39;49m\u001b[43mtrial\u001b[49m\u001b[43m,\u001b[49m\n\u001b[1;32m   1889\u001b[0m \u001b[43m        \u001b[49m\u001b[43mignore_keys_for_eval\u001b[49m\u001b[38;5;241;43m=\u001b[39;49m\u001b[43mignore_keys_for_eval\u001b[49m\u001b[43m,\u001b[49m\n\u001b[1;32m   1890\u001b[0m \u001b[43m    \u001b[49m\u001b[43m)\u001b[49m\n",
      "File \u001b[0;32m~/venv/lib/python3.10/site-packages/transformers/trainer.py:2284\u001b[0m, in \u001b[0;36mTrainer._inner_training_loop\u001b[0;34m(self, batch_size, args, resume_from_checkpoint, trial, ignore_keys_for_eval)\u001b[0m\n\u001b[1;32m   2281\u001b[0m \u001b[38;5;28;01mif\u001b[39;00m optimizer_was_run:\n\u001b[1;32m   2282\u001b[0m     \u001b[38;5;66;03m# Delay optimizer scheduling until metrics are generated\u001b[39;00m\n\u001b[1;32m   2283\u001b[0m     \u001b[38;5;28;01mif\u001b[39;00m \u001b[38;5;129;01mnot\u001b[39;00m \u001b[38;5;28misinstance\u001b[39m(\u001b[38;5;28mself\u001b[39m\u001b[38;5;241m.\u001b[39mlr_scheduler, torch\u001b[38;5;241m.\u001b[39moptim\u001b[38;5;241m.\u001b[39mlr_scheduler\u001b[38;5;241m.\u001b[39mReduceLROnPlateau):\n\u001b[0;32m-> 2284\u001b[0m         \u001b[38;5;28;43mself\u001b[39;49m\u001b[38;5;241;43m.\u001b[39;49m\u001b[43mlr_scheduler\u001b[49m\u001b[38;5;241;43m.\u001b[39;49m\u001b[43mstep\u001b[49m\u001b[43m(\u001b[49m\u001b[43m)\u001b[49m\n\u001b[1;32m   2286\u001b[0m model\u001b[38;5;241m.\u001b[39mzero_grad()\n\u001b[1;32m   2287\u001b[0m \u001b[38;5;28mself\u001b[39m\u001b[38;5;241m.\u001b[39mstate\u001b[38;5;241m.\u001b[39mglobal_step \u001b[38;5;241m+\u001b[39m\u001b[38;5;241m=\u001b[39m \u001b[38;5;241m1\u001b[39m\n",
      "File \u001b[0;32m~/venv/lib/python3.10/site-packages/torch/optim/lr_scheduler.py:154\u001b[0m, in \u001b[0;36mLRScheduler.step\u001b[0;34m(self, epoch)\u001b[0m\n\u001b[1;32m    152\u001b[0m \u001b[38;5;28;01mif\u001b[39;00m epoch \u001b[38;5;129;01mis\u001b[39;00m \u001b[38;5;28;01mNone\u001b[39;00m:\n\u001b[1;32m    153\u001b[0m     \u001b[38;5;28mself\u001b[39m\u001b[38;5;241m.\u001b[39mlast_epoch \u001b[38;5;241m+\u001b[39m\u001b[38;5;241m=\u001b[39m \u001b[38;5;241m1\u001b[39m\n\u001b[0;32m--> 154\u001b[0m     values \u001b[38;5;241m=\u001b[39m \u001b[38;5;28;43mself\u001b[39;49m\u001b[38;5;241;43m.\u001b[39;49m\u001b[43mget_lr\u001b[49m\u001b[43m(\u001b[49m\u001b[43m)\u001b[49m\n\u001b[1;32m    155\u001b[0m \u001b[38;5;28;01melse\u001b[39;00m:\n\u001b[1;32m    156\u001b[0m     warnings\u001b[38;5;241m.\u001b[39mwarn(EPOCH_DEPRECATION_WARNING, \u001b[38;5;167;01mUserWarning\u001b[39;00m)\n",
      "File \u001b[0;32m~/venv/lib/python3.10/site-packages/torch/optim/lr_scheduler.py:1784\u001b[0m, in \u001b[0;36mOneCycleLR.get_lr\u001b[0;34m(self)\u001b[0m\n\u001b[1;32m   1781\u001b[0m step_num \u001b[38;5;241m=\u001b[39m \u001b[38;5;28mself\u001b[39m\u001b[38;5;241m.\u001b[39mlast_epoch\n\u001b[1;32m   1783\u001b[0m \u001b[38;5;28;01mif\u001b[39;00m step_num \u001b[38;5;241m>\u001b[39m \u001b[38;5;28mself\u001b[39m\u001b[38;5;241m.\u001b[39mtotal_steps:\n\u001b[0;32m-> 1784\u001b[0m     \u001b[38;5;28;01mraise\u001b[39;00m \u001b[38;5;167;01mValueError\u001b[39;00m(\u001b[38;5;124m\"\u001b[39m\u001b[38;5;124mTried to step \u001b[39m\u001b[38;5;132;01m{}\u001b[39;00m\u001b[38;5;124m times. The specified number of total steps is \u001b[39m\u001b[38;5;132;01m{}\u001b[39;00m\u001b[38;5;124m\"\u001b[39m\n\u001b[1;32m   1785\u001b[0m                      \u001b[38;5;241m.\u001b[39mformat(step_num, \u001b[38;5;28mself\u001b[39m\u001b[38;5;241m.\u001b[39mtotal_steps))\n\u001b[1;32m   1787\u001b[0m \u001b[38;5;28;01mfor\u001b[39;00m group \u001b[38;5;129;01min\u001b[39;00m \u001b[38;5;28mself\u001b[39m\u001b[38;5;241m.\u001b[39moptimizer\u001b[38;5;241m.\u001b[39mparam_groups:\n\u001b[1;32m   1788\u001b[0m     start_step \u001b[38;5;241m=\u001b[39m \u001b[38;5;241m0\u001b[39m\n",
      "\u001b[0;31mValueError\u001b[0m: Tried to step 281 times. The specified number of total steps is 280"
     ]
    }
   ],
   "source": [
    "trainer.train()"
   ]
  },
  {
   "cell_type": "markdown",
   "id": "c5a92c67-7b73-4208-9711-a317744aed21",
   "metadata": {},
   "source": [
    "## Size = 256"
   ]
  },
  {
   "cell_type": "code",
   "execution_count": null,
   "id": "4a6edaa8-95a9-40c8-9139-877202a46a46",
   "metadata": {},
   "outputs": [],
   "source": [
    "# refresh the callback"
   ]
  },
  {
   "cell_type": "code",
   "execution_count": 38,
   "id": "b64f3458-4e27-4c65-8e9f-046b14546b52",
   "metadata": {},
   "outputs": [],
   "source": [
    "size=256"
   ]
  },
  {
   "cell_type": "code",
   "execution_count": 19,
   "id": "b0ecb61b-3cee-4d99-9d39-071f1f89feee",
   "metadata": {},
   "outputs": [
    {
     "data": {
      "text/html": [
       "\n",
       "    <div>\n",
       "      \n",
       "      <progress value='222' max='1110' style='width:300px; height:20px; vertical-align: middle;'></progress>\n",
       "      [ 222/1110 00:43 < 02:57, 5.01 it/s, Epoch 6/30]\n",
       "    </div>\n",
       "    <table border=\"1\" class=\"dataframe\">\n",
       "  <thead>\n",
       " <tr style=\"text-align: left;\">\n",
       "      <th>Epoch</th>\n",
       "      <th>Training Loss</th>\n",
       "      <th>Validation Loss</th>\n",
       "      <th>Accuracy</th>\n",
       "    </tr>\n",
       "  </thead>\n",
       "  <tbody>\n",
       "    <tr>\n",
       "      <td>1</td>\n",
       "      <td>1.666000</td>\n",
       "      <td>3.131905</td>\n",
       "      <td>0.247134</td>\n",
       "    </tr>\n",
       "    <tr>\n",
       "      <td>2</td>\n",
       "      <td>1.179900</td>\n",
       "      <td>1.861571</td>\n",
       "      <td>0.395414</td>\n",
       "    </tr>\n",
       "    <tr>\n",
       "      <td>3</td>\n",
       "      <td>0.991500</td>\n",
       "      <td>1.364271</td>\n",
       "      <td>0.568408</td>\n",
       "    </tr>\n",
       "    <tr>\n",
       "      <td>4</td>\n",
       "      <td>0.873200</td>\n",
       "      <td>1.050813</td>\n",
       "      <td>0.652484</td>\n",
       "    </tr>\n",
       "    <tr>\n",
       "      <td>5</td>\n",
       "      <td>0.753300</td>\n",
       "      <td>0.882417</td>\n",
       "      <td>0.717452</td>\n",
       "    </tr>\n",
       "    <tr>\n",
       "      <td>6</td>\n",
       "      <td>0.644200</td>\n",
       "      <td>1.028910</td>\n",
       "      <td>0.678726</td>\n",
       "    </tr>\n",
       "  </tbody>\n",
       "</table><p>"
      ],
      "text/plain": [
       "<IPython.core.display.HTML object>"
      ]
     },
     "metadata": {},
     "output_type": "display_data"
    },
    {
     "data": {
      "text/plain": [
       "TrainOutput(global_step=222, training_loss=1.1074629366934836, metrics={'train_runtime': 45.3073, 'train_samples_per_second': 6269.854, 'train_steps_per_second': 24.499, 'total_flos': 0.0, 'train_loss': 1.1074629366934836, 'epoch': 6.0})"
      ]
     },
     "execution_count": 19,
     "metadata": {},
     "output_type": "execute_result"
    }
   ],
   "source": [
    "trainer.train()"
   ]
  },
  {
   "cell_type": "markdown",
   "id": "af76ee04-c84e-49de-91c0-5904804d0800",
   "metadata": {},
   "source": [
    "## Size = 512"
   ]
  },
  {
   "cell_type": "code",
   "execution_count": 39,
   "id": "681fab6e-ef58-408f-939d-6bf6614f8b2c",
   "metadata": {},
   "outputs": [],
   "source": [
    "size = 512"
   ]
  },
  {
   "cell_type": "code",
   "execution_count": 40,
   "id": "f64ea4df-6afa-4897-96a7-ab83c95cfa09",
   "metadata": {},
   "outputs": [
    {
     "ename": "ValueError",
     "evalue": "Tried to step 282 times. The specified number of total steps is 280",
     "output_type": "error",
     "traceback": [
      "\u001b[0;31m---------------------------------------------------------------------------\u001b[0m",
      "\u001b[0;31mValueError\u001b[0m                                Traceback (most recent call last)",
      "Cell \u001b[0;32mIn[40], line 1\u001b[0m\n\u001b[0;32m----> 1\u001b[0m \u001b[43mtrainer\u001b[49m\u001b[38;5;241;43m.\u001b[39;49m\u001b[43mtrain\u001b[49m\u001b[43m(\u001b[49m\u001b[43m)\u001b[49m\n",
      "File \u001b[0;32m~/venv/lib/python3.10/site-packages/transformers/trainer.py:1885\u001b[0m, in \u001b[0;36mTrainer.train\u001b[0;34m(self, resume_from_checkpoint, trial, ignore_keys_for_eval, **kwargs)\u001b[0m\n\u001b[1;32m   1883\u001b[0m         hf_hub_utils\u001b[38;5;241m.\u001b[39menable_progress_bars()\n\u001b[1;32m   1884\u001b[0m \u001b[38;5;28;01melse\u001b[39;00m:\n\u001b[0;32m-> 1885\u001b[0m     \u001b[38;5;28;01mreturn\u001b[39;00m \u001b[43minner_training_loop\u001b[49m\u001b[43m(\u001b[49m\n\u001b[1;32m   1886\u001b[0m \u001b[43m        \u001b[49m\u001b[43margs\u001b[49m\u001b[38;5;241;43m=\u001b[39;49m\u001b[43margs\u001b[49m\u001b[43m,\u001b[49m\n\u001b[1;32m   1887\u001b[0m \u001b[43m        \u001b[49m\u001b[43mresume_from_checkpoint\u001b[49m\u001b[38;5;241;43m=\u001b[39;49m\u001b[43mresume_from_checkpoint\u001b[49m\u001b[43m,\u001b[49m\n\u001b[1;32m   1888\u001b[0m \u001b[43m        \u001b[49m\u001b[43mtrial\u001b[49m\u001b[38;5;241;43m=\u001b[39;49m\u001b[43mtrial\u001b[49m\u001b[43m,\u001b[49m\n\u001b[1;32m   1889\u001b[0m \u001b[43m        \u001b[49m\u001b[43mignore_keys_for_eval\u001b[49m\u001b[38;5;241;43m=\u001b[39;49m\u001b[43mignore_keys_for_eval\u001b[49m\u001b[43m,\u001b[49m\n\u001b[1;32m   1890\u001b[0m \u001b[43m    \u001b[49m\u001b[43m)\u001b[49m\n",
      "File \u001b[0;32m~/venv/lib/python3.10/site-packages/transformers/trainer.py:2284\u001b[0m, in \u001b[0;36mTrainer._inner_training_loop\u001b[0;34m(self, batch_size, args, resume_from_checkpoint, trial, ignore_keys_for_eval)\u001b[0m\n\u001b[1;32m   2281\u001b[0m \u001b[38;5;28;01mif\u001b[39;00m optimizer_was_run:\n\u001b[1;32m   2282\u001b[0m     \u001b[38;5;66;03m# Delay optimizer scheduling until metrics are generated\u001b[39;00m\n\u001b[1;32m   2283\u001b[0m     \u001b[38;5;28;01mif\u001b[39;00m \u001b[38;5;129;01mnot\u001b[39;00m \u001b[38;5;28misinstance\u001b[39m(\u001b[38;5;28mself\u001b[39m\u001b[38;5;241m.\u001b[39mlr_scheduler, torch\u001b[38;5;241m.\u001b[39moptim\u001b[38;5;241m.\u001b[39mlr_scheduler\u001b[38;5;241m.\u001b[39mReduceLROnPlateau):\n\u001b[0;32m-> 2284\u001b[0m         \u001b[38;5;28;43mself\u001b[39;49m\u001b[38;5;241;43m.\u001b[39;49m\u001b[43mlr_scheduler\u001b[49m\u001b[38;5;241;43m.\u001b[39;49m\u001b[43mstep\u001b[49m\u001b[43m(\u001b[49m\u001b[43m)\u001b[49m\n\u001b[1;32m   2286\u001b[0m model\u001b[38;5;241m.\u001b[39mzero_grad()\n\u001b[1;32m   2287\u001b[0m \u001b[38;5;28mself\u001b[39m\u001b[38;5;241m.\u001b[39mstate\u001b[38;5;241m.\u001b[39mglobal_step \u001b[38;5;241m+\u001b[39m\u001b[38;5;241m=\u001b[39m \u001b[38;5;241m1\u001b[39m\n",
      "File \u001b[0;32m~/venv/lib/python3.10/site-packages/torch/optim/lr_scheduler.py:154\u001b[0m, in \u001b[0;36mLRScheduler.step\u001b[0;34m(self, epoch)\u001b[0m\n\u001b[1;32m    152\u001b[0m \u001b[38;5;28;01mif\u001b[39;00m epoch \u001b[38;5;129;01mis\u001b[39;00m \u001b[38;5;28;01mNone\u001b[39;00m:\n\u001b[1;32m    153\u001b[0m     \u001b[38;5;28mself\u001b[39m\u001b[38;5;241m.\u001b[39mlast_epoch \u001b[38;5;241m+\u001b[39m\u001b[38;5;241m=\u001b[39m \u001b[38;5;241m1\u001b[39m\n\u001b[0;32m--> 154\u001b[0m     values \u001b[38;5;241m=\u001b[39m \u001b[38;5;28;43mself\u001b[39;49m\u001b[38;5;241;43m.\u001b[39;49m\u001b[43mget_lr\u001b[49m\u001b[43m(\u001b[49m\u001b[43m)\u001b[49m\n\u001b[1;32m    155\u001b[0m \u001b[38;5;28;01melse\u001b[39;00m:\n\u001b[1;32m    156\u001b[0m     warnings\u001b[38;5;241m.\u001b[39mwarn(EPOCH_DEPRECATION_WARNING, \u001b[38;5;167;01mUserWarning\u001b[39;00m)\n",
      "File \u001b[0;32m~/venv/lib/python3.10/site-packages/torch/optim/lr_scheduler.py:1784\u001b[0m, in \u001b[0;36mOneCycleLR.get_lr\u001b[0;34m(self)\u001b[0m\n\u001b[1;32m   1781\u001b[0m step_num \u001b[38;5;241m=\u001b[39m \u001b[38;5;28mself\u001b[39m\u001b[38;5;241m.\u001b[39mlast_epoch\n\u001b[1;32m   1783\u001b[0m \u001b[38;5;28;01mif\u001b[39;00m step_num \u001b[38;5;241m>\u001b[39m \u001b[38;5;28mself\u001b[39m\u001b[38;5;241m.\u001b[39mtotal_steps:\n\u001b[0;32m-> 1784\u001b[0m     \u001b[38;5;28;01mraise\u001b[39;00m \u001b[38;5;167;01mValueError\u001b[39;00m(\u001b[38;5;124m\"\u001b[39m\u001b[38;5;124mTried to step \u001b[39m\u001b[38;5;132;01m{}\u001b[39;00m\u001b[38;5;124m times. The specified number of total steps is \u001b[39m\u001b[38;5;132;01m{}\u001b[39;00m\u001b[38;5;124m\"\u001b[39m\n\u001b[1;32m   1785\u001b[0m                      \u001b[38;5;241m.\u001b[39mformat(step_num, \u001b[38;5;28mself\u001b[39m\u001b[38;5;241m.\u001b[39mtotal_steps))\n\u001b[1;32m   1787\u001b[0m \u001b[38;5;28;01mfor\u001b[39;00m group \u001b[38;5;129;01min\u001b[39;00m \u001b[38;5;28mself\u001b[39m\u001b[38;5;241m.\u001b[39moptimizer\u001b[38;5;241m.\u001b[39mparam_groups:\n\u001b[1;32m   1788\u001b[0m     start_step \u001b[38;5;241m=\u001b[39m \u001b[38;5;241m0\u001b[39m\n",
      "\u001b[0;31mValueError\u001b[0m: Tried to step 282 times. The specified number of total steps is 280"
     ]
    }
   ],
   "source": [
    "trainer.train()"
   ]
  },
  {
   "cell_type": "code",
   "execution_count": 142,
   "id": "bdfa719e-fed7-4741-9490-914fcf51854b",
   "metadata": {},
   "outputs": [],
   "source": [
    "trainer.remove_callback(CutMixCallback)\n",
    "trainer.add_callback(LabelSmoothingCallback())"
   ]
  },
  {
   "cell_type": "markdown",
   "id": "eeecb38e-fed3-462d-9a43-4a238f0e9849",
   "metadata": {},
   "source": [
    "## Evaluation"
   ]
  },
  {
   "cell_type": "code",
   "execution_count": 47,
   "id": "7a580399-f8b0-4f1a-86ce-a96d94a7a03c",
   "metadata": {},
   "outputs": [
    {
     "data": {
      "text/html": [],
      "text/plain": [
       "<IPython.core.display.HTML object>"
      ]
     },
     "metadata": {},
     "output_type": "display_data"
    }
   ],
   "source": [
    "output = trainer.predict(dataset['validation'])"
   ]
  },
  {
   "cell_type": "code",
   "execution_count": 48,
   "id": "465191c7-cd9a-45e3-9c64-a51182ed8b87",
   "metadata": {},
   "outputs": [
    {
     "data": {
      "text/plain": [
       "{'test_loss': 0.1004561185836792,\n",
       " 'test_accuracy': 0.9681528662420382,\n",
       " 'test_runtime': 1.4936,\n",
       " 'test_samples_per_second': 2627.935,\n",
       " 'test_steps_per_second': 10.713}"
      ]
     },
     "execution_count": 48,
     "metadata": {},
     "output_type": "execute_result"
    }
   ],
   "source": [
    "output.metrics"
   ]
  },
  {
   "cell_type": "code",
   "execution_count": null,
   "id": "49922a19-3c44-40d5-bf5f-e161aab63662",
   "metadata": {},
   "outputs": [],
   "source": []
  }
 ],
 "metadata": {
  "kernelspec": {
   "display_name": "Python 3 (ipykernel)",
   "language": "python",
   "name": "python3"
  },
  "language_info": {
   "codemirror_mode": {
    "name": "ipython",
    "version": 3
   },
   "file_extension": ".py",
   "mimetype": "text/x-python",
   "name": "python",
   "nbconvert_exporter": "python",
   "pygments_lexer": "ipython3",
   "version": "3.10.12"
  }
 },
 "nbformat": 4,
 "nbformat_minor": 5
}